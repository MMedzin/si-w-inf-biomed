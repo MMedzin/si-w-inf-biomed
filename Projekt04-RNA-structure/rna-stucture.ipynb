{
 "cells": [
  {
   "attachments": {},
   "cell_type": "markdown",
   "metadata": {},
   "source": [
    "# RNA structure deviation prediction"
   ]
  },
  {
   "cell_type": "code",
   "execution_count": 28,
   "metadata": {},
   "outputs": [],
   "source": [
    "import xml.etree.ElementTree as ET\n",
    "from pathlib import Path\n",
    "\n",
    "import biographs as bg\n",
    "import matplotlib.pyplot as plt\n",
    "import networkx as nx\n",
    "import numpy as np\n",
    "import pandas as pd\n",
    "from catboost import CatBoostRegressor\n",
    "from sklearn.dummy import DummyRegressor\n",
    "from sklearn.ensemble import RandomForestRegressor\n",
    "from sklearn.metrics import mean_squared_error\n",
    "from sklearn.model_selection import train_test_split\n",
    "from torch_geometric.utils.convert import from_networkx"
   ]
  },
  {
   "attachments": {},
   "cell_type": "markdown",
   "metadata": {},
   "source": [
    "## Data"
   ]
  },
  {
   "cell_type": "code",
   "execution_count": 3,
   "metadata": {},
   "outputs": [
    {
     "data": {
      "text/plain": [
       "['pz01',\n",
       " 'pz02',\n",
       " 'pz03',\n",
       " 'pz04',\n",
       " 'pz05',\n",
       " 'pz06',\n",
       " 'pz07',\n",
       " 'pz08',\n",
       " 'pz09',\n",
       " 'pz10']"
      ]
     },
     "execution_count": 3,
     "metadata": {},
     "output_type": "execute_result"
    }
   ],
   "source": [
    "challanges = [\"pz0\" + str(i) for i in range(1, 10)] + [\"pz10\"]\n",
    "challanges"
   ]
  },
  {
   "cell_type": "code",
   "execution_count": 4,
   "metadata": {},
   "outputs": [
    {
     "data": {
      "text/plain": [
       "(1114, 6)"
      ]
     },
     "execution_count": 4,
     "metadata": {},
     "output_type": "execute_result"
    }
   ],
   "source": [
    "motives = pd.DataFrame()\n",
    "\n",
    "for challange in challanges:\n",
    "    motive_df = pd.read_csv(\n",
    "        f\"RNA-Puzzles/{challange}/filter-results.txt\",\n",
    "        delimiter=\"\\t\",\n",
    "        header=None,\n",
    "        names=[\n",
    "            \"filename\",\n",
    "            \"number_of_schemes\",\n",
    "            \"number_of_rests\",\n",
    "            \"nucleotide ranges\",\n",
    "            \"sequence\",\n",
    "        ],\n",
    "    )\n",
    "    motive_df[\"challange_num\"] = challange\n",
    "    motives = pd.concat([motives, motive_df])\n",
    "\n",
    "motives = motives.reset_index(drop=True)\n",
    "motives.shape"
   ]
  },
  {
   "cell_type": "code",
   "execution_count": 5,
   "metadata": {},
   "outputs": [
    {
     "data": {
      "text/html": [
       "<div>\n",
       "<style scoped>\n",
       "    .dataframe tbody tr th:only-of-type {\n",
       "        vertical-align: middle;\n",
       "    }\n",
       "\n",
       "    .dataframe tbody tr th {\n",
       "        vertical-align: top;\n",
       "    }\n",
       "\n",
       "    .dataframe thead th {\n",
       "        text-align: right;\n",
       "    }\n",
       "</style>\n",
       "<table border=\"1\" class=\"dataframe\">\n",
       "  <thead>\n",
       "    <tr style=\"text-align: right;\">\n",
       "      <th></th>\n",
       "      <th>filename</th>\n",
       "      <th>number_of_schemes</th>\n",
       "      <th>number_of_rests</th>\n",
       "      <th>nucleotide ranges</th>\n",
       "      <th>sequence</th>\n",
       "      <th>challange_num</th>\n",
       "    </tr>\n",
       "  </thead>\n",
       "  <tbody>\n",
       "    <tr>\n",
       "      <th>0</th>\n",
       "      <td>1_solution_0_rpr_A_3_G</td>\n",
       "      <td>2</td>\n",
       "      <td>15</td>\n",
       "      <td>A1-A7, B11-B18</td>\n",
       "      <td>CCGCCGC, AUGCCUGU</td>\n",
       "      <td>pz01</td>\n",
       "    </tr>\n",
       "    <tr>\n",
       "      <th>1</th>\n",
       "      <td>1_solution_0_rpr_A_4_C</td>\n",
       "      <td>3</td>\n",
       "      <td>20</td>\n",
       "      <td>A1-A8, B10-B16, B19-B23</td>\n",
       "      <td>CCGCCGCG, CAUGCCU, GGCGG</td>\n",
       "      <td>pz01</td>\n",
       "    </tr>\n",
       "    <tr>\n",
       "      <th>2</th>\n",
       "      <td>1_solution_0_rpr_A_5_C</td>\n",
       "      <td>3</td>\n",
       "      <td>23</td>\n",
       "      <td>A1-A9, B8-B15, B18-B23</td>\n",
       "      <td>CCGCCGCGC, GCCAUGCC, UGGCGG</td>\n",
       "      <td>pz01</td>\n",
       "    </tr>\n",
       "    <tr>\n",
       "      <th>3</th>\n",
       "      <td>1_solution_0_rpr_A_6_G</td>\n",
       "      <td>3</td>\n",
       "      <td>24</td>\n",
       "      <td>A2-A10, B7-B14, B17-B23</td>\n",
       "      <td>CGCCGCGCC, CGCCAUGC, GUGGCGG</td>\n",
       "      <td>pz01</td>\n",
       "    </tr>\n",
       "    <tr>\n",
       "      <th>4</th>\n",
       "      <td>1_solution_0_rpr_A_7_C</td>\n",
       "      <td>3</td>\n",
       "      <td>24</td>\n",
       "      <td>A3-A11, B6-B13, B16-B22</td>\n",
       "      <td>GCCGCGCCA, GCGCCAUG, UGUGGCG</td>\n",
       "      <td>pz01</td>\n",
       "    </tr>\n",
       "    <tr>\n",
       "      <th>...</th>\n",
       "      <td>...</td>\n",
       "      <td>...</td>\n",
       "      <td>...</td>\n",
       "      <td>...</td>\n",
       "      <td>...</td>\n",
       "      <td>...</td>\n",
       "    </tr>\n",
       "    <tr>\n",
       "      <th>1109</th>\n",
       "      <td>10_0_solution_4LCK_rpr_B_60_C</td>\n",
       "      <td>2</td>\n",
       "      <td>22</td>\n",
       "      <td>B13-B20, B51-B64</td>\n",
       "      <td>CAGUGGUA, GGUUCGAAUCCCGU</td>\n",
       "      <td>pz10</td>\n",
       "    </tr>\n",
       "    <tr>\n",
       "      <th>1110</th>\n",
       "      <td>10_0_solution_4LCK_rpr_B_61_C</td>\n",
       "      <td>2</td>\n",
       "      <td>22</td>\n",
       "      <td>B14-B19, B50-B65</td>\n",
       "      <td>AGUGGU, GGGUUCGAAUCCCGUC</td>\n",
       "      <td>pz10</td>\n",
       "    </tr>\n",
       "    <tr>\n",
       "      <th>1111</th>\n",
       "      <td>10_0_solution_4LCK_rpr_B_62_C</td>\n",
       "      <td>2</td>\n",
       "      <td>17</td>\n",
       "      <td>B49-B55, B57-B66</td>\n",
       "      <td>CGGGUUC, AAUCCCGUCU</td>\n",
       "      <td>pz10</td>\n",
       "    </tr>\n",
       "    <tr>\n",
       "      <th>1112</th>\n",
       "      <td>10_0_solution_4LCK_rpr_B_63_G</td>\n",
       "      <td>2</td>\n",
       "      <td>15</td>\n",
       "      <td>B48-B54, B59-B66</td>\n",
       "      <td>GCGGGUU, UCCCGUCU</td>\n",
       "      <td>pz10</td>\n",
       "    </tr>\n",
       "    <tr>\n",
       "      <th>1113</th>\n",
       "      <td>10_0_solution_4LCK_rpr_B_64_U</td>\n",
       "      <td>2</td>\n",
       "      <td>15</td>\n",
       "      <td>B47-B54, B60-B66</td>\n",
       "      <td>CGCGGGUU, CCCGUCU</td>\n",
       "      <td>pz10</td>\n",
       "    </tr>\n",
       "  </tbody>\n",
       "</table>\n",
       "<p>1114 rows × 6 columns</p>\n",
       "</div>"
      ],
      "text/plain": [
       "                           filename  number_of_schemes  number_of_rests  \\\n",
       "0            1_solution_0_rpr_A_3_G                  2               15   \n",
       "1            1_solution_0_rpr_A_4_C                  3               20   \n",
       "2            1_solution_0_rpr_A_5_C                  3               23   \n",
       "3            1_solution_0_rpr_A_6_G                  3               24   \n",
       "4            1_solution_0_rpr_A_7_C                  3               24   \n",
       "...                             ...                ...              ...   \n",
       "1109  10_0_solution_4LCK_rpr_B_60_C                  2               22   \n",
       "1110  10_0_solution_4LCK_rpr_B_61_C                  2               22   \n",
       "1111  10_0_solution_4LCK_rpr_B_62_C                  2               17   \n",
       "1112  10_0_solution_4LCK_rpr_B_63_G                  2               15   \n",
       "1113  10_0_solution_4LCK_rpr_B_64_U                  2               15   \n",
       "\n",
       "            nucleotide ranges                      sequence challange_num  \n",
       "0              A1-A7, B11-B18             CCGCCGC, AUGCCUGU          pz01  \n",
       "1     A1-A8, B10-B16, B19-B23      CCGCCGCG, CAUGCCU, GGCGG          pz01  \n",
       "2      A1-A9, B8-B15, B18-B23   CCGCCGCGC, GCCAUGCC, UGGCGG          pz01  \n",
       "3     A2-A10, B7-B14, B17-B23  CGCCGCGCC, CGCCAUGC, GUGGCGG          pz01  \n",
       "4     A3-A11, B6-B13, B16-B22  GCCGCGCCA, GCGCCAUG, UGUGGCG          pz01  \n",
       "...                       ...                           ...           ...  \n",
       "1109         B13-B20, B51-B64      CAGUGGUA, GGUUCGAAUCCCGU          pz10  \n",
       "1110         B14-B19, B50-B65      AGUGGU, GGGUUCGAAUCCCGUC          pz10  \n",
       "1111         B49-B55, B57-B66           CGGGUUC, AAUCCCGUCU          pz10  \n",
       "1112         B48-B54, B59-B66             GCGGGUU, UCCCGUCU          pz10  \n",
       "1113         B47-B54, B60-B66             CGCGGGUU, CCCGUCU          pz10  \n",
       "\n",
       "[1114 rows x 6 columns]"
      ]
     },
     "execution_count": 5,
     "metadata": {},
     "output_type": "execute_result"
    }
   ],
   "source": [
    "motives"
   ]
  },
  {
   "cell_type": "code",
   "execution_count": 6,
   "metadata": {},
   "outputs": [],
   "source": [
    "def parse_scores_xml(xml_path: Path) -> pd.DataFrame:\n",
    "    tree = ET.parse(xml_path)\n",
    "    root = tree.getroot()\n",
    "\n",
    "    structure_dicts = []\n",
    "    for structure in root.iter(\"structure\"):\n",
    "        filename = structure.find(\"description\").find(\"filename\").text\n",
    "        score = structure.find(\"score\").text\n",
    "        structure_dicts.append({\"filename\": filename, \"score\": score})\n",
    "\n",
    "    return pd.DataFrame(structure_dicts)"
   ]
  },
  {
   "cell_type": "code",
   "execution_count": 7,
   "metadata": {},
   "outputs": [
    {
     "data": {
      "text/plain": [
       "(34114, 5)"
      ]
     },
     "execution_count": 7,
     "metadata": {},
     "output_type": "execute_result"
    }
   ],
   "source": [
    "solutions_with_no_xml_file = []\n",
    "scores_df = pd.DataFrame()\n",
    "PUZZLES_DIR = Path(\"./RNA-Puzzles\")\n",
    "\n",
    "for index, row in motives.iterrows():\n",
    "    challange_dir = PUZZLES_DIR / f\"{row['challange_num']}\"\n",
    "    xml_path = challange_dir / f\"{row['filename']}-rmsd.xml\"\n",
    "\n",
    "    if xml_path.exists():\n",
    "        xml_df = parse_scores_xml(xml_path)\n",
    "        xml_df[\"solution\"] = row[\"filename\"]\n",
    "        xml_df[\n",
    "            \"pdb_path\"\n",
    "        ] = f\"{PUZZLES_DIR.name}/{challange_dir.name}/{row['filename']}/\" + xml_df[\n",
    "            \"filename\"\n",
    "        ].astype(\n",
    "            str\n",
    "        )\n",
    "\n",
    "        xml_df[\n",
    "            \"tor_path\"\n",
    "        ] = f\"{PUZZLES_DIR.name}/{challange_dir.name}/{row['filename']}/\" + xml_df[\n",
    "            \"filename\"\n",
    "        ].apply(\n",
    "            lambda x: str(x[:-3]) + \"tor\"\n",
    "        )\n",
    "\n",
    "        scores_df = pd.concat([scores_df, xml_df])\n",
    "    else:\n",
    "        solutions_with_no_xml_file.append(index)\n",
    "\n",
    "scores_df.shape"
   ]
  },
  {
   "cell_type": "code",
   "execution_count": 8,
   "metadata": {},
   "outputs": [
    {
     "data": {
      "text/html": [
       "<div>\n",
       "<style scoped>\n",
       "    .dataframe tbody tr th:only-of-type {\n",
       "        vertical-align: middle;\n",
       "    }\n",
       "\n",
       "    .dataframe tbody tr th {\n",
       "        vertical-align: top;\n",
       "    }\n",
       "\n",
       "    .dataframe thead th {\n",
       "        text-align: right;\n",
       "    }\n",
       "</style>\n",
       "<table border=\"1\" class=\"dataframe\">\n",
       "  <thead>\n",
       "    <tr style=\"text-align: right;\">\n",
       "      <th></th>\n",
       "      <th>filename</th>\n",
       "      <th>score</th>\n",
       "      <th>solution</th>\n",
       "      <th>pdb_path</th>\n",
       "      <th>tor_path</th>\n",
       "    </tr>\n",
       "  </thead>\n",
       "  <tbody>\n",
       "    <tr>\n",
       "      <th>0</th>\n",
       "      <td>1_bujnicki_1_rpr.pdb</td>\n",
       "      <td>4.643</td>\n",
       "      <td>1_solution_0_rpr_A_3_G</td>\n",
       "      <td>RNA-Puzzles/pz01/1_solution_0_rpr_A_3_G/1_bujn...</td>\n",
       "      <td>RNA-Puzzles/pz01/1_solution_0_rpr_A_3_G/1_bujn...</td>\n",
       "    </tr>\n",
       "    <tr>\n",
       "      <th>1</th>\n",
       "      <td>1_bujnicki_2_rpr.pdb</td>\n",
       "      <td>4.495</td>\n",
       "      <td>1_solution_0_rpr_A_3_G</td>\n",
       "      <td>RNA-Puzzles/pz01/1_solution_0_rpr_A_3_G/1_bujn...</td>\n",
       "      <td>RNA-Puzzles/pz01/1_solution_0_rpr_A_3_G/1_bujn...</td>\n",
       "    </tr>\n",
       "    <tr>\n",
       "      <th>2</th>\n",
       "      <td>1_bujnicki_3_rpr.pdb</td>\n",
       "      <td>3.862</td>\n",
       "      <td>1_solution_0_rpr_A_3_G</td>\n",
       "      <td>RNA-Puzzles/pz01/1_solution_0_rpr_A_3_G/1_bujn...</td>\n",
       "      <td>RNA-Puzzles/pz01/1_solution_0_rpr_A_3_G/1_bujn...</td>\n",
       "    </tr>\n",
       "    <tr>\n",
       "      <th>3</th>\n",
       "      <td>1_bujnicki_4_rpr.pdb</td>\n",
       "      <td>4.514</td>\n",
       "      <td>1_solution_0_rpr_A_3_G</td>\n",
       "      <td>RNA-Puzzles/pz01/1_solution_0_rpr_A_3_G/1_bujn...</td>\n",
       "      <td>RNA-Puzzles/pz01/1_solution_0_rpr_A_3_G/1_bujn...</td>\n",
       "    </tr>\n",
       "    <tr>\n",
       "      <th>4</th>\n",
       "      <td>1_bujnicki_5_rpr.pdb</td>\n",
       "      <td>4.617</td>\n",
       "      <td>1_solution_0_rpr_A_3_G</td>\n",
       "      <td>RNA-Puzzles/pz01/1_solution_0_rpr_A_3_G/1_bujn...</td>\n",
       "      <td>RNA-Puzzles/pz01/1_solution_0_rpr_A_3_G/1_bujn...</td>\n",
       "    </tr>\n",
       "    <tr>\n",
       "      <th>...</th>\n",
       "      <td>...</td>\n",
       "      <td>...</td>\n",
       "      <td>...</td>\n",
       "      <td>...</td>\n",
       "      <td>...</td>\n",
       "    </tr>\n",
       "    <tr>\n",
       "      <th>21</th>\n",
       "      <td>10_DING_5_rpr.pdb</td>\n",
       "      <td>2.963</td>\n",
       "      <td>10_0_solution_4LCK_rpr_B_64_U</td>\n",
       "      <td>RNA-Puzzles/pz10/10_0_solution_4LCK_rpr_B_64_U...</td>\n",
       "      <td>RNA-Puzzles/pz10/10_0_solution_4LCK_rpr_B_64_U...</td>\n",
       "    </tr>\n",
       "    <tr>\n",
       "      <th>22</th>\n",
       "      <td>10_DING_6_rpr.pdb</td>\n",
       "      <td>2.19</td>\n",
       "      <td>10_0_solution_4LCK_rpr_B_64_U</td>\n",
       "      <td>RNA-Puzzles/pz10/10_0_solution_4LCK_rpr_B_64_U...</td>\n",
       "      <td>RNA-Puzzles/pz10/10_0_solution_4LCK_rpr_B_64_U...</td>\n",
       "    </tr>\n",
       "    <tr>\n",
       "      <th>23</th>\n",
       "      <td>10_DING_7_rpr.pdb</td>\n",
       "      <td>2.374</td>\n",
       "      <td>10_0_solution_4LCK_rpr_B_64_U</td>\n",
       "      <td>RNA-Puzzles/pz10/10_0_solution_4LCK_rpr_B_64_U...</td>\n",
       "      <td>RNA-Puzzles/pz10/10_0_solution_4LCK_rpr_B_64_U...</td>\n",
       "    </tr>\n",
       "    <tr>\n",
       "      <th>24</th>\n",
       "      <td>10_DING_8_rpr.pdb</td>\n",
       "      <td>2.918</td>\n",
       "      <td>10_0_solution_4LCK_rpr_B_64_U</td>\n",
       "      <td>RNA-Puzzles/pz10/10_0_solution_4LCK_rpr_B_64_U...</td>\n",
       "      <td>RNA-Puzzles/pz10/10_0_solution_4LCK_rpr_B_64_U...</td>\n",
       "    </tr>\n",
       "    <tr>\n",
       "      <th>25</th>\n",
       "      <td>10_DING_9_rpr.pdb</td>\n",
       "      <td>2.132</td>\n",
       "      <td>10_0_solution_4LCK_rpr_B_64_U</td>\n",
       "      <td>RNA-Puzzles/pz10/10_0_solution_4LCK_rpr_B_64_U...</td>\n",
       "      <td>RNA-Puzzles/pz10/10_0_solution_4LCK_rpr_B_64_U...</td>\n",
       "    </tr>\n",
       "  </tbody>\n",
       "</table>\n",
       "<p>34114 rows × 5 columns</p>\n",
       "</div>"
      ],
      "text/plain": [
       "                filename  score                       solution  \\\n",
       "0   1_bujnicki_1_rpr.pdb  4.643         1_solution_0_rpr_A_3_G   \n",
       "1   1_bujnicki_2_rpr.pdb  4.495         1_solution_0_rpr_A_3_G   \n",
       "2   1_bujnicki_3_rpr.pdb  3.862         1_solution_0_rpr_A_3_G   \n",
       "3   1_bujnicki_4_rpr.pdb  4.514         1_solution_0_rpr_A_3_G   \n",
       "4   1_bujnicki_5_rpr.pdb  4.617         1_solution_0_rpr_A_3_G   \n",
       "..                   ...    ...                            ...   \n",
       "21     10_DING_5_rpr.pdb  2.963  10_0_solution_4LCK_rpr_B_64_U   \n",
       "22     10_DING_6_rpr.pdb   2.19  10_0_solution_4LCK_rpr_B_64_U   \n",
       "23     10_DING_7_rpr.pdb  2.374  10_0_solution_4LCK_rpr_B_64_U   \n",
       "24     10_DING_8_rpr.pdb  2.918  10_0_solution_4LCK_rpr_B_64_U   \n",
       "25     10_DING_9_rpr.pdb  2.132  10_0_solution_4LCK_rpr_B_64_U   \n",
       "\n",
       "                                             pdb_path  \\\n",
       "0   RNA-Puzzles/pz01/1_solution_0_rpr_A_3_G/1_bujn...   \n",
       "1   RNA-Puzzles/pz01/1_solution_0_rpr_A_3_G/1_bujn...   \n",
       "2   RNA-Puzzles/pz01/1_solution_0_rpr_A_3_G/1_bujn...   \n",
       "3   RNA-Puzzles/pz01/1_solution_0_rpr_A_3_G/1_bujn...   \n",
       "4   RNA-Puzzles/pz01/1_solution_0_rpr_A_3_G/1_bujn...   \n",
       "..                                                ...   \n",
       "21  RNA-Puzzles/pz10/10_0_solution_4LCK_rpr_B_64_U...   \n",
       "22  RNA-Puzzles/pz10/10_0_solution_4LCK_rpr_B_64_U...   \n",
       "23  RNA-Puzzles/pz10/10_0_solution_4LCK_rpr_B_64_U...   \n",
       "24  RNA-Puzzles/pz10/10_0_solution_4LCK_rpr_B_64_U...   \n",
       "25  RNA-Puzzles/pz10/10_0_solution_4LCK_rpr_B_64_U...   \n",
       "\n",
       "                                             tor_path  \n",
       "0   RNA-Puzzles/pz01/1_solution_0_rpr_A_3_G/1_bujn...  \n",
       "1   RNA-Puzzles/pz01/1_solution_0_rpr_A_3_G/1_bujn...  \n",
       "2   RNA-Puzzles/pz01/1_solution_0_rpr_A_3_G/1_bujn...  \n",
       "3   RNA-Puzzles/pz01/1_solution_0_rpr_A_3_G/1_bujn...  \n",
       "4   RNA-Puzzles/pz01/1_solution_0_rpr_A_3_G/1_bujn...  \n",
       "..                                                ...  \n",
       "21  RNA-Puzzles/pz10/10_0_solution_4LCK_rpr_B_64_U...  \n",
       "22  RNA-Puzzles/pz10/10_0_solution_4LCK_rpr_B_64_U...  \n",
       "23  RNA-Puzzles/pz10/10_0_solution_4LCK_rpr_B_64_U...  \n",
       "24  RNA-Puzzles/pz10/10_0_solution_4LCK_rpr_B_64_U...  \n",
       "25  RNA-Puzzles/pz10/10_0_solution_4LCK_rpr_B_64_U...  \n",
       "\n",
       "[34114 rows x 5 columns]"
      ]
     },
     "execution_count": 8,
     "metadata": {},
     "output_type": "execute_result"
    }
   ],
   "source": [
    "scores_df"
   ]
  },
  {
   "cell_type": "code",
   "execution_count": 9,
   "metadata": {},
   "outputs": [
    {
     "data": {
      "text/plain": [
       "(1095, 6)"
      ]
     },
     "execution_count": 9,
     "metadata": {},
     "output_type": "execute_result"
    }
   ],
   "source": [
    "motives = motives.drop(solutions_with_no_xml_file)\n",
    "motives.shape"
   ]
  },
  {
   "cell_type": "code",
   "execution_count": 10,
   "metadata": {},
   "outputs": [],
   "source": [
    "def parse_tor_file(tor_file_path: Path) -> dict:\n",
    "    tor_df = pd.read_csv(tor_file_path, delimiter=\"\\t\", na_values=\"-\")\n",
    "    tor_df = tor_df.loc[\n",
    "        :,\n",
    "        [\n",
    "            \"Chain\",\n",
    "            \"ResNum\",\n",
    "            \"alpha\",\n",
    "            \"beta\",\n",
    "            \"gamma\",\n",
    "            \"delta\",\n",
    "            \"epsilon\",\n",
    "            \"zeta\",\n",
    "            \"chi\",\n",
    "        ],\n",
    "    ].fillna(0)\n",
    "\n",
    "    names = tor_df.loc[:, \"Chain\"] + tor_df.loc[:, \"ResNum\"].astype(str)\n",
    "\n",
    "    tor_angles = tor_df.loc[\n",
    "        :, [\"alpha\", \"beta\", \"gamma\", \"delta\", \"epsilon\", \"zeta\", \"chi\"]\n",
    "    ].values.tolist()\n",
    "\n",
    "    return {name: tor_angle for name, tor_angle in zip(names, tor_angles)}"
   ]
  },
  {
   "cell_type": "code",
   "execution_count": 11,
   "metadata": {},
   "outputs": [],
   "source": [
    "def pbd_to_graph(pdb_file_path: Path, tor_file_path: Path) -> nx.Graph:\n",
    "    solution = bg.Pmolecule(str(pdb_file_path))\n",
    "    solution_graph = solution.network(cutoff=5, weight=False)\n",
    "    features_dict = parse_tor_file(tor_file_path)\n",
    "    nx.set_node_attributes(\n",
    "        solution_graph,\n",
    "        features_dict,\n",
    "        name=\"x\",\n",
    "    )\n",
    "    return solution_graph"
   ]
  },
  {
   "cell_type": "code",
   "execution_count": 15,
   "metadata": {},
   "outputs": [
    {
     "data": {
      "image/png": "[encoded data removed]",
      "text/plain": [
       "<Figure size 640x480 with 1 Axes>"
      ]
     },
     "metadata": {},
     "output_type": "display_data"
    },
    {
     "data": {
      "text/plain": [
       "NodeView(('A1', 'A2', 'A3', 'A4', 'A5', 'A6', 'A7', 'B11', 'B12', 'B13', 'B14', 'B15', 'B16', 'B17', 'B18'))"
      ]
     },
     "execution_count": 15,
     "metadata": {},
     "output_type": "execute_result"
    }
   ],
   "source": [
    "sample_graph = pbd_to_graph(\n",
    "    PUZZLES_DIR / \"pz01\" / \"1_solution_0_rpr_A_3_G.pdb\",\n",
    "    PUZZLES_DIR / \"pz01\" / \"1_solution_0_rpr_A_3_G.tor\",\n",
    ")\n",
    "\n",
    "nx.draw(sample_graph)\n",
    "plt.show()\n",
    "sample_graph.nodes"
   ]
  },
  {
   "cell_type": "code",
   "execution_count": 16,
   "metadata": {},
   "outputs": [
    {
     "data": {
      "text/plain": [
       "(34114,)"
      ]
     },
     "execution_count": 16,
     "metadata": {},
     "output_type": "execute_result"
    }
   ],
   "source": [
    "pdb_files = scores_df[\"pdb_path\"]\n",
    "pdb_files.shape"
   ]
  },
  {
   "cell_type": "code",
   "execution_count": 17,
   "metadata": {},
   "outputs": [
    {
     "data": {
      "text/plain": [
       "(34114,)"
      ]
     },
     "execution_count": 17,
     "metadata": {},
     "output_type": "execute_result"
    }
   ],
   "source": [
    "tor_files = scores_df[\"tor_path\"]\n",
    "tor_files.shape"
   ]
  },
  {
   "cell_type": "code",
   "execution_count": 18,
   "metadata": {},
   "outputs": [
    {
     "data": {
      "text/plain": [
       "(34114,)"
      ]
     },
     "execution_count": 18,
     "metadata": {},
     "output_type": "execute_result"
    }
   ],
   "source": [
    "labels = scores_df[\"score\"]\n",
    "labels.shape"
   ]
  },
  {
   "cell_type": "code",
   "execution_count": null,
   "metadata": {},
   "outputs": [],
   "source": [
    "MAX_FEATURES = 427\n",
    "\n",
    "X_list = []\n",
    "y_list = []\n",
    "\n",
    "for pdb, tor, label in zip(pdb_files, tor_files, labels):\n",
    "    try:\n",
    "        graph = pbd_to_graph(\n",
    "            Path(pdb),\n",
    "            Path(tor),\n",
    "        )\n",
    "        x_tmp = from_networkx(graph).x.flatten().numpy()\n",
    "        x = np.zeros(MAX_FEATURES)\n",
    "        x[: x_tmp.shape[0]] = x_tmp\n",
    "        X_list.append(x)\n",
    "        y_list.append(label)\n",
    "    except:\n",
    "        print(f\"Error in file {tor}\")\n",
    "len(X_list)"
   ]
  },
  {
   "cell_type": "code",
   "execution_count": 20,
   "metadata": {},
   "outputs": [
    {
     "data": {
      "text/plain": [
       "(33422, 427)"
      ]
     },
     "execution_count": 20,
     "metadata": {},
     "output_type": "execute_result"
    }
   ],
   "source": [
    "X = np.array(X_list)\n",
    "X.shape"
   ]
  },
  {
   "cell_type": "code",
   "execution_count": 21,
   "metadata": {},
   "outputs": [
    {
     "data": {
      "text/plain": [
       "(33422,)"
      ]
     },
     "execution_count": 21,
     "metadata": {},
     "output_type": "execute_result"
    }
   ],
   "source": [
    "y = np.array(y_list).astype(float)\n",
    "y.shape"
   ]
  },
  {
   "attachments": {},
   "cell_type": "markdown",
   "metadata": {},
   "source": [
    "### RandomForest and CatBoost"
   ]
  },
  {
   "cell_type": "code",
   "execution_count": 22,
   "metadata": {},
   "outputs": [],
   "source": [
    "X_train, X_test, y_train, y_test = train_test_split(\n",
    "    X, y, random_state=23, test_size=0.3\n",
    ")\n",
    "X_train, X_valid, y_train, y_valid = train_test_split(\n",
    "    X_train, y_train, random_state=23, test_size=0.3\n",
    ")"
   ]
  },
  {
   "cell_type": "code",
   "execution_count": 23,
   "metadata": {},
   "outputs": [
    {
     "name": "stdout",
     "output_type": "stream",
     "text": [
      "Training samples: 16376\n",
      "Validation samples: 7019\n",
      "Test samples: 10027\n"
     ]
    }
   ],
   "source": [
    "print(f\"Training samples: {X_train.shape[0]}\")\n",
    "print(f\"Validation samples: {X_valid.shape[0]}\")\n",
    "print(f\"Test samples: {X_test.shape[0]}\")"
   ]
  },
  {
   "cell_type": "code",
   "execution_count": 24,
   "metadata": {},
   "outputs": [],
   "source": [
    "def root_mean_squared_error(y_true: np.array, y_pred: np.array) -> float:\n",
    "    return pow(mean_squared_error(y_true, y_pred), 0.5)"
   ]
  },
  {
   "cell_type": "code",
   "execution_count": null,
   "metadata": {},
   "outputs": [],
   "source": [
    "model_dummy = DummyRegressor(strategy=\"mean\")\n",
    "model_dummy.fit(X_train, y_train)"
   ]
  },
  {
   "cell_type": "code",
   "execution_count": 30,
   "metadata": {},
   "outputs": [
    {
     "name": "stdout",
     "output_type": "stream",
     "text": [
      "RMSE for DummyRegressor score_rf: 6.631089524737216\n"
     ]
    }
   ],
   "source": [
    "y_pred_dummy = model_dummy.predict(X_test)\n",
    "score_dummy = root_mean_squared_error(y_test, y_pred_dummy)\n",
    "print(f\"RMSE for {model_dummy.__class__.__name__} score_rf: {score_dummy}\")"
   ]
  },
  {
   "cell_type": "code",
   "execution_count": null,
   "metadata": {},
   "outputs": [],
   "source": [
    "model_rf = RandomForestRegressor(random_state=23)\n",
    "model_rf.fit(X_train, y_train)"
   ]
  },
  {
   "cell_type": "code",
   "execution_count": 26,
   "metadata": {},
   "outputs": [
    {
     "name": "stdout",
     "output_type": "stream",
     "text": [
      "RMSE for RandomForestRegressor score_rf: 4.78605683815697\n"
     ]
    }
   ],
   "source": [
    "y_pred_rf = model_rf.predict(X_test)\n",
    "score_rf = root_mean_squared_error(y_test, y_pred_rf)\n",
    "print(f\"RMSE for {model_rf.__class__.__name__} score_rf: {score_rf}\")"
   ]
  },
  {
   "cell_type": "code",
   "execution_count": null,
   "metadata": {},
   "outputs": [],
   "source": [
    "model_cb = CatBoostRegressor(iterations=2000, eval_metric=\"RMSE\", random_seed=23)\n",
    "model_cb.fit(X_train, y_train, eval_set=(X_valid, y_valid))"
   ]
  },
  {
   "cell_type": "code",
   "execution_count": 31,
   "metadata": {},
   "outputs": [
    {
     "name": "stdout",
     "output_type": "stream",
     "text": [
      "RMSE for CatBoostRegressor score_rf: 4.276693490656471\n"
     ]
    }
   ],
   "source": [
    "y_pred_cb = model_cb.predict(X_test)\n",
    "score_cb = root_mean_squared_error(y_test, y_pred_cb)\n",
    "print(f\"RMSE for {model_cb.__class__.__name__} score_rf: {score_cb}\")"
   ]
  }
 ],
 "metadata": {
  "kernelspec": {
   "display_name": "aibiomed",
   "language": "python",
   "name": "python3"
  },
  "language_info": {
   "codemirror_mode": {
    "name": "ipython",
    "version": 3
   },
   "file_extension": ".py",
   "mimetype": "text/x-python",
   "name": "python",
   "nbconvert_exporter": "python",
   "pygments_lexer": "ipython3",
   "version": "3.9.0"
  },
  "orig_nbformat": 4
 },
 "nbformat": 4,
 "nbformat_minor": 2
}
