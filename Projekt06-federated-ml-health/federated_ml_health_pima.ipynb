{
  "cells": [
    {
      "cell_type": "markdown",
      "metadata": {
        "id": "c7zQveWs6Cxx"
      },
      "source": [
        "# federated-ml-health \n",
        "**Notatnik przystosowany do zajęć z SIwIB**.\n",
        "* aktualizacja do nowszej wersji biblioteki TF Federated\n",
        "* uproszczenie kodu (usunięcie części związanej z *Differential Privacy*) i przygotowanie fragmentów kodu na potrzeby zajęć\n",
        "\n",
        "---\n",
        "\n",
        "Oryginalna wersja: https://github.com/google/federated-ml-health\n",
        "\n",
        "Copyright 2020 Google LLC\n",
        "\n",
        "Licensed under the Apache License, Version 2.0 (the \"License\");\n",
        "you may not use this file except in compliance with the License.\n",
        "You may obtain a copy of the License at https://www.apache.org/licenses/LICENSE-2.0\n",
        "\n",
        "Unless required by applicable law or agreed to in writing, software\n",
        "distributed under the License is distributed on an \"AS IS\" BASIS,\n",
        "WITHOUT WARRANTIES OR CONDITIONS OF ANY KIND, either express or implied.\n",
        "See the License for the specific language governing permissions and\n",
        "limitations under the License."
      ]
    },
    {
      "cell_type": "code",
      "execution_count": 1,
      "metadata": {
        "id": "tF3IEWxX2CKP"
      },
      "outputs": [],
      "source": [
        "# Instalacja TF Federated\n",
        "%pip install --quiet --upgrade tensorflow-federated"
      ]
    },
    {
      "cell_type": "markdown",
      "metadata": {
        "id": "KMB_hsVf4w0D"
      },
      "source": [
        "\n",
        "\n",
        "\n",
        "# Przygotowanie danych\n",
        "\n",
        "Na początku wykorzystamy zbiór `pima`. W dalszej kolejności będziemy pracować na odpowiednio przygotowanej wersji zbioru MIMIC-III (dostępny na eKursach)."
      ]
    },
    {
      "cell_type": "code",
      "execution_count": 2,
      "metadata": {
        "id": "UdFlgnj-Cu1N"
      },
      "outputs": [],
      "source": [
        "import collections\n",
        "import matplotlib.pyplot as plt\n",
        "import nest_asyncio\n",
        "import numpy as np\n",
        "import pandas as pd\n",
        "import sklearn\n",
        "import tensorflow as tf\n",
        "import tensorflow_federated as tff\n",
        "from collections import defaultdict \n",
        "from matplotlib.pyplot import figure\n",
        "from numpy import loadtxt\n",
        "from sklearn.linear_model import LogisticRegression\n",
        "from sklearn.metrics import roc_auc_score"
      ]
    },
    {
      "cell_type": "code",
      "execution_count": 3,
      "metadata": {
        "id": "p0V5rprpCu1N"
      },
      "outputs": [],
      "source": [
        "# Ukrycie części niestotnych logów\n",
        "tf.compat.v1.logging.set_verbosity(tf.compat.v1.logging.ERROR)"
      ]
    },
    {
      "cell_type": "code",
      "source": [
        "# Podmontowanie dysku Google\n",
        "# from google.colab import drive\n",
        "# drive.mount('/content/drive')"
      ],
      "metadata": {
        "id": "-03PDFIvEkNz"
      },
      "execution_count": 4,
      "outputs": []
    },
    {
      "cell_type": "code",
      "execution_count": 5,
      "metadata": {
        "id": "leOpdF3N1P6F"
      },
      "outputs": [],
      "source": [
        "np.random.seed(42)\n",
        "tf.random.set_seed(42)\n"
      ]
    },
    {
      "cell_type": "code",
      "execution_count": 6,
      "metadata": {
        "id": "kFrMbx2HCu1N"
      },
      "outputs": [],
      "source": [
        "# Ścieżki do plików przy założeniu, że pliki z danymi znajdują się w głównym katalogu na GDrive\n",
        "csv_fn = 'pima.csv' # /content/drive/MyDrive/\n",
        "# csv_fn = 'content/drive/MyDrive/mimic3-17f-in-hosp-mort.csv' \n",
        "# W dalszej kolejności będziemy używać '/content/drive/MyDrive/mimic3.csv'\n",
        "raw_ds = pd.read_csv(csv_fn)\n",
        "num_col = raw_ds.shape[1]\n",
        "# Zakładamy, że atrybut decyzyjny jest zawsze w ostatniej kolumnie\n",
        "X = raw_ds.iloc[:, 0:num_col-1].values\n",
        "y = raw_ds.iloc[:, num_col-1].values"
      ]
    },
    {
      "cell_type": "code",
      "source": [
        "raw_ds.shape"
      ],
      "metadata": {
        "colab": {
          "base_uri": "https://localhost:8080/"
        },
        "id": "zD5o6rYXoPsX",
        "outputId": "f0444d71-47f9-4687-f160-7485f1a6064c"
      },
      "execution_count": 7,
      "outputs": [
        {
          "output_type": "execute_result",
          "data": {
            "text/plain": [
              "(768, 9)"
            ]
          },
          "metadata": {},
          "execution_count": 7
        }
      ]
    },
    {
      "cell_type": "code",
      "source": [
        "raw_ds.iloc[:, 0:num_col-1].head()"
      ],
      "metadata": {
        "colab": {
          "base_uri": "https://localhost:8080/",
          "height": 206
        },
        "id": "91PmPHlCmgxd",
        "outputId": "92a525ea-3313-4f66-9077-7dbffa48c3a1"
      },
      "execution_count": 8,
      "outputs": [
        {
          "output_type": "execute_result",
          "data": {
            "text/plain": [
              "   pregnancies  glucose  bp  skin_thickness  insulin   bmi  diab_ped_function  \\\n",
              "0            6      148  72              35        0  33.6              0.627   \n",
              "1            1       85  66              29        0  26.6              0.351   \n",
              "2            8      183  64               0        0  23.3              0.672   \n",
              "3            1       89  66              23       94  28.1              0.167   \n",
              "4            0      137  40              35      168  43.1              2.288   \n",
              "\n",
              "   age  \n",
              "0   50  \n",
              "1   31  \n",
              "2   32  \n",
              "3   21  \n",
              "4   33  "
            ],
            "text/html": [
              "\n",
              "  <div id=\"df-9dc7dc43-b933-4fc0-8e93-df4701c5d9be\">\n",
              "    <div class=\"colab-df-container\">\n",
              "      <div>\n",
              "<style scoped>\n",
              "    .dataframe tbody tr th:only-of-type {\n",
              "        vertical-align: middle;\n",
              "    }\n",
              "\n",
              "    .dataframe tbody tr th {\n",
              "        vertical-align: top;\n",
              "    }\n",
              "\n",
              "    .dataframe thead th {\n",
              "        text-align: right;\n",
              "    }\n",
              "</style>\n",
              "<table border=\"1\" class=\"dataframe\">\n",
              "  <thead>\n",
              "    <tr style=\"text-align: right;\">\n",
              "      <th></th>\n",
              "      <th>pregnancies</th>\n",
              "      <th>glucose</th>\n",
              "      <th>bp</th>\n",
              "      <th>skin_thickness</th>\n",
              "      <th>insulin</th>\n",
              "      <th>bmi</th>\n",
              "      <th>diab_ped_function</th>\n",
              "      <th>age</th>\n",
              "    </tr>\n",
              "  </thead>\n",
              "  <tbody>\n",
              "    <tr>\n",
              "      <th>0</th>\n",
              "      <td>6</td>\n",
              "      <td>148</td>\n",
              "      <td>72</td>\n",
              "      <td>35</td>\n",
              "      <td>0</td>\n",
              "      <td>33.6</td>\n",
              "      <td>0.627</td>\n",
              "      <td>50</td>\n",
              "    </tr>\n",
              "    <tr>\n",
              "      <th>1</th>\n",
              "      <td>1</td>\n",
              "      <td>85</td>\n",
              "      <td>66</td>\n",
              "      <td>29</td>\n",
              "      <td>0</td>\n",
              "      <td>26.6</td>\n",
              "      <td>0.351</td>\n",
              "      <td>31</td>\n",
              "    </tr>\n",
              "    <tr>\n",
              "      <th>2</th>\n",
              "      <td>8</td>\n",
              "      <td>183</td>\n",
              "      <td>64</td>\n",
              "      <td>0</td>\n",
              "      <td>0</td>\n",
              "      <td>23.3</td>\n",
              "      <td>0.672</td>\n",
              "      <td>32</td>\n",
              "    </tr>\n",
              "    <tr>\n",
              "      <th>3</th>\n",
              "      <td>1</td>\n",
              "      <td>89</td>\n",
              "      <td>66</td>\n",
              "      <td>23</td>\n",
              "      <td>94</td>\n",
              "      <td>28.1</td>\n",
              "      <td>0.167</td>\n",
              "      <td>21</td>\n",
              "    </tr>\n",
              "    <tr>\n",
              "      <th>4</th>\n",
              "      <td>0</td>\n",
              "      <td>137</td>\n",
              "      <td>40</td>\n",
              "      <td>35</td>\n",
              "      <td>168</td>\n",
              "      <td>43.1</td>\n",
              "      <td>2.288</td>\n",
              "      <td>33</td>\n",
              "    </tr>\n",
              "  </tbody>\n",
              "</table>\n",
              "</div>\n",
              "      <button class=\"colab-df-convert\" onclick=\"convertToInteractive('df-9dc7dc43-b933-4fc0-8e93-df4701c5d9be')\"\n",
              "              title=\"Convert this dataframe to an interactive table.\"\n",
              "              style=\"display:none;\">\n",
              "        \n",
              "  <svg xmlns=\"http://www.w3.org/2000/svg\" height=\"24px\"viewBox=\"0 0 24 24\"\n",
              "       width=\"24px\">\n",
              "    <path d=\"M0 0h24v24H0V0z\" fill=\"none\"/>\n",
              "    <path d=\"M18.56 5.44l.94 2.06.94-2.06 2.06-.94-2.06-.94-.94-2.06-.94 2.06-2.06.94zm-11 1L8.5 8.5l.94-2.06 2.06-.94-2.06-.94L8.5 2.5l-.94 2.06-2.06.94zm10 10l.94 2.06.94-2.06 2.06-.94-2.06-.94-.94-2.06-.94 2.06-2.06.94z\"/><path d=\"M17.41 7.96l-1.37-1.37c-.4-.4-.92-.59-1.43-.59-.52 0-1.04.2-1.43.59L10.3 9.45l-7.72 7.72c-.78.78-.78 2.05 0 2.83L4 21.41c.39.39.9.59 1.41.59.51 0 1.02-.2 1.41-.59l7.78-7.78 2.81-2.81c.8-.78.8-2.07 0-2.86zM5.41 20L4 18.59l7.72-7.72 1.47 1.35L5.41 20z\"/>\n",
              "  </svg>\n",
              "      </button>\n",
              "      \n",
              "  <style>\n",
              "    .colab-df-container {\n",
              "      display:flex;\n",
              "      flex-wrap:wrap;\n",
              "      gap: 12px;\n",
              "    }\n",
              "\n",
              "    .colab-df-convert {\n",
              "      background-color: #E8F0FE;\n",
              "      border: none;\n",
              "      border-radius: 50%;\n",
              "      cursor: pointer;\n",
              "      display: none;\n",
              "      fill: #1967D2;\n",
              "      height: 32px;\n",
              "      padding: 0 0 0 0;\n",
              "      width: 32px;\n",
              "    }\n",
              "\n",
              "    .colab-df-convert:hover {\n",
              "      background-color: #E2EBFA;\n",
              "      box-shadow: 0px 1px 2px rgba(60, 64, 67, 0.3), 0px 1px 3px 1px rgba(60, 64, 67, 0.15);\n",
              "      fill: #174EA6;\n",
              "    }\n",
              "\n",
              "    [theme=dark] .colab-df-convert {\n",
              "      background-color: #3B4455;\n",
              "      fill: #D2E3FC;\n",
              "    }\n",
              "\n",
              "    [theme=dark] .colab-df-convert:hover {\n",
              "      background-color: #434B5C;\n",
              "      box-shadow: 0px 1px 3px 1px rgba(0, 0, 0, 0.15);\n",
              "      filter: drop-shadow(0px 1px 2px rgba(0, 0, 0, 0.3));\n",
              "      fill: #FFFFFF;\n",
              "    }\n",
              "  </style>\n",
              "\n",
              "      <script>\n",
              "        const buttonEl =\n",
              "          document.querySelector('#df-9dc7dc43-b933-4fc0-8e93-df4701c5d9be button.colab-df-convert');\n",
              "        buttonEl.style.display =\n",
              "          google.colab.kernel.accessAllowed ? 'block' : 'none';\n",
              "\n",
              "        async function convertToInteractive(key) {\n",
              "          const element = document.querySelector('#df-9dc7dc43-b933-4fc0-8e93-df4701c5d9be');\n",
              "          const dataTable =\n",
              "            await google.colab.kernel.invokeFunction('convertToInteractive',\n",
              "                                                     [key], {});\n",
              "          if (!dataTable) return;\n",
              "\n",
              "          const docLinkHtml = 'Like what you see? Visit the ' +\n",
              "            '<a target=\"_blank\" href=https://colab.research.google.com/notebooks/data_table.ipynb>data table notebook</a>'\n",
              "            + ' to learn more about interactive tables.';\n",
              "          element.innerHTML = '';\n",
              "          dataTable['output_type'] = 'display_data';\n",
              "          await google.colab.output.renderOutput(dataTable, element);\n",
              "          const docLink = document.createElement('div');\n",
              "          docLink.innerHTML = docLinkHtml;\n",
              "          element.appendChild(docLink);\n",
              "        }\n",
              "      </script>\n",
              "    </div>\n",
              "  </div>\n",
              "  "
            ]
          },
          "metadata": {},
          "execution_count": 8
        }
      ]
    },
    {
      "cell_type": "code",
      "source": [
        "raw_ds.iloc[:, num_col-1].head()"
      ],
      "metadata": {
        "colab": {
          "base_uri": "https://localhost:8080/"
        },
        "id": "gRa_scTPmjNt",
        "outputId": "879eac3e-c5bc-4592-c8fa-07aa0a6ccb53"
      },
      "execution_count": 9,
      "outputs": [
        {
          "output_type": "execute_result",
          "data": {
            "text/plain": [
              "0    1\n",
              "1    0\n",
              "2    1\n",
              "3    0\n",
              "4    1\n",
              "Name: outcome, dtype: int64"
            ]
          },
          "metadata": {},
          "execution_count": 9
        }
      ]
    },
    {
      "cell_type": "code",
      "source": [
        "raw_ds.iloc[:, num_col-1].value_counts()"
      ],
      "metadata": {
        "colab": {
          "base_uri": "https://localhost:8080/"
        },
        "id": "QswZa1x7oXP2",
        "outputId": "c7b9ed7b-0c91-49ab-97e8-965140fc14b2"
      },
      "execution_count": 10,
      "outputs": [
        {
          "output_type": "execute_result",
          "data": {
            "text/plain": [
              "0    500\n",
              "1    268\n",
              "Name: outcome, dtype: int64"
            ]
          },
          "metadata": {},
          "execution_count": 10
        }
      ]
    },
    {
      "cell_type": "markdown",
      "metadata": {
        "id": "G_e9bgXfCu1N"
      },
      "source": [
        "## Podział na część uczącą i testującą\n",
        "\n",
        "Tym razem porządniej, niż w oryginalnym notatniku :) -- `scaler` oraz `imputer` są uczone na danych uczących i stosowane do danych testowych."
      ]
    },
    {
      "cell_type": "code",
      "execution_count": 11,
      "metadata": {
        "id": "bNFL56ALCu1N"
      },
      "outputs": [],
      "source": [
        "TRAIN_PROPORTION = 0.8\n",
        "NUM_FEATURES = X.shape[1]\n",
        "NUM_ROUNDS = 12\n",
        "\n",
        "n_train = round(TRAIN_PROPORTION * X.shape[0])\n",
        "n_test = X.shape[0] - n_train\n",
        "\n",
        "X_train = X[:n_train]\n",
        "y_train =  y[:n_train]\n",
        "X_test = X[n_train:]\n",
        "y_test =  y[n_train:]"
      ]
    },
    {
      "cell_type": "code",
      "execution_count": 12,
      "metadata": {
        "id": "y5CRuYtLCu1O"
      },
      "outputs": [],
      "source": [
        "from sklearn.preprocessing import StandardScaler\n",
        "from sklearn.impute import SimpleImputer\n",
        "from sklearn.pipeline import make_pipeline \n",
        "\n",
        "preprocessor = make_pipeline(SimpleImputer(), StandardScaler())\n",
        "\n",
        "X_train = preprocessor.fit_transform(X_train)\n",
        "X_test = preprocessor.transform(X_test)\n"
      ]
    },
    {
      "cell_type": "markdown",
      "metadata": {
        "id": "Gmfdu_98F5rb"
      },
      "source": [
        "# Podejście scentralizowane"
      ]
    },
    {
      "cell_type": "markdown",
      "metadata": {
        "id": "mR9evztMh702"
      },
      "source": [
        "## Regresja - scikit-learn\n"
      ]
    },
    {
      "cell_type": "markdown",
      "source": [
        "Testujemy kilka wariantów regresji logistycznej, aby uzyskać *baseline*."
      ],
      "metadata": {
        "id": "VhA4-aVkGfhT"
      }
    },
    {
      "cell_type": "code",
      "execution_count": 13,
      "metadata": {
        "id": "frzfmadVh4zx",
        "outputId": "5d98cd3b-a5a8-4b98-fe63-0fac51b1acf7",
        "colab": {
          "base_uri": "https://localhost:8080/"
        }
      },
      "outputs": [
        {
          "output_type": "stream",
          "name": "stdout",
          "text": [
            "AUC-LIN = 0.8481\n"
          ]
        }
      ],
      "source": [
        "sk_model = LogisticRegression(random_state=42).fit(X_train, y_train)\n",
        "proba_test = sk_model.predict_proba(X_test)[:,1]\n",
        "fpr_sk, tpr_sk, threshold_sk = sklearn.metrics.roc_curve(y_test, proba_test)\n",
        "auc_sk = sklearn.metrics.auc(fpr_sk, tpr_sk)\n",
        "print(f'AUC-LIN = {auc_sk:.4}')"
      ]
    },
    {
      "cell_type": "markdown",
      "metadata": {
        "id": "zv1I3oDbiBlx"
      },
      "source": [
        "## Regresja - TF\n",
        "\n",
        "Implementujemy regresję logistyczną w TF. Stworzony model (`tf_model`) wykorzystuje `Adam`-a. Wyjaśnienie autorów notatnika: *Adam optimization method is used to mimic the sklearn solver as close as possible (leveraging second derivatives of gradient).*"
      ]
    },
    {
      "cell_type": "code",
      "execution_count": 14,
      "metadata": {
        "id": "Zn4P2LPWCu1O"
      },
      "outputs": [],
      "source": [
        "# dataset_train = tf.data.Dataset.from_tensor_slices((X_train, y_train)).batch(n_train)\n",
        "# dataset_test = tf.data.Dataset.from_tensor_slices((X_test, y_test)).batch(n_train)"
      ]
    },
    {
      "cell_type": "code",
      "execution_count": 15,
      "metadata": {
        "id": "r3VJqYAuiD7t"
      },
      "outputs": [],
      "source": [
        "# Prosty model - LR\n",
        "def create_keras_model():\n",
        "  return tf.keras.models.Sequential([\n",
        "      tf.keras.layers.Dense(\n",
        "          1,\n",
        "          activation='sigmoid',\n",
        "          input_shape=(NUM_FEATURES,),\n",
        "          kernel_regularizer=tf.keras.regularizers.l2(0.01),\n",
        "      )\n",
        "  ])\n",
        "\n",
        "# Bardziej złożony model - MLP\n",
        "def create_keras_model_deeper():\n",
        "  initializer = tf.keras.initializers.GlorotNormal(seed=10)\n",
        "  m = tf.keras.models.Sequential()\n",
        "  m.add(tf.keras.Input(shape=(NUM_FEATURES,)))\n",
        "  m.add(tf.keras.layers.Dense(6, activation='sigmoid', kernel_initializer=initializer))\n",
        "  m.add(tf.keras.layers.Dense(3, activation='sigmoid', kernel_initializer=initializer))\n",
        "  m.add(tf.keras.layers.Dense(1, activation='sigmoid', kernel_initializer=initializer, kernel_regularizer=tf.keras.regularizers.L1L2(l1=0.0001, l2=0.01)))\n",
        "  return m\n",
        "  "
      ]
    },
    {
      "cell_type": "code",
      "execution_count": 16,
      "metadata": {
        "id": "PyAes_znCu1O"
      },
      "outputs": [],
      "source": [
        "tf_model = create_keras_model()\n",
        "tf_model.compile(\n",
        "  optimizer=tf.keras.optimizers.Adam(learning_rate=0.5),   \n",
        "  loss=tf.keras.losses.BinaryCrossentropy(),\n",
        "  metrics=[\n",
        "    tf.keras.metrics.BinaryAccuracy(name='accuracy'),\n",
        "    tf.keras.metrics.AUC(name='auc'),\n",
        "  ]\n",
        ")\n",
        "\n",
        "batch_size = round(n_train/3)\n"
      ]
    },
    {
      "cell_type": "code",
      "execution_count": 17,
      "metadata": {
        "id": "_L7jik4ECu1O",
        "outputId": "f9c81637-d14f-4c43-b958-8adc396685cc",
        "colab": {
          "base_uri": "https://localhost:8080/"
        }
      },
      "outputs": [
        {
          "output_type": "stream",
          "name": "stdout",
          "text": [
            "Epoch 1/12\n",
            "3/3 [==============================] - 1s 16ms/step - loss: 0.7850 - accuracy: 0.6287 - auc: 0.6398\n",
            "Epoch 2/12\n",
            "3/3 [==============================] - 0s 10ms/step - loss: 0.7039 - accuracy: 0.7459 - auc: 0.7986\n",
            "Epoch 3/12\n",
            "3/3 [==============================] - 0s 10ms/step - loss: 0.6546 - accuracy: 0.7476 - auc: 0.8128\n",
            "Epoch 4/12\n",
            "3/3 [==============================] - 0s 8ms/step - loss: 0.5762 - accuracy: 0.7443 - auc: 0.8046\n",
            "Epoch 5/12\n",
            "3/3 [==============================] - 0s 6ms/step - loss: 0.5492 - accuracy: 0.7443 - auc: 0.7934\n",
            "Epoch 6/12\n",
            "3/3 [==============================] - 0s 9ms/step - loss: 0.5317 - accuracy: 0.7443 - auc: 0.8303\n",
            "Epoch 7/12\n",
            "3/3 [==============================] - 0s 7ms/step - loss: 0.5217 - accuracy: 0.7704 - auc: 0.8198\n",
            "Epoch 8/12\n",
            "3/3 [==============================] - 0s 6ms/step - loss: 0.5092 - accuracy: 0.7801 - auc: 0.8182\n",
            "Epoch 9/12\n",
            "3/3 [==============================] - 0s 7ms/step - loss: 0.5117 - accuracy: 0.7606 - auc: 0.8272\n",
            "Epoch 10/12\n",
            "3/3 [==============================] - 0s 6ms/step - loss: 0.4956 - accuracy: 0.7720 - auc: 0.8312\n",
            "Epoch 11/12\n",
            "3/3 [==============================] - 0s 7ms/step - loss: 0.4995 - accuracy: 0.7801 - auc: 0.8360\n",
            "Epoch 12/12\n",
            "3/3 [==============================] - 0s 7ms/step - loss: 0.4980 - accuracy: 0.7850 - auc: 0.8329\n"
          ]
        },
        {
          "output_type": "execute_result",
          "data": {
            "text/plain": [
              "<keras.callbacks.History at 0x7f01aca9ae60>"
            ]
          },
          "metadata": {},
          "execution_count": 17
        }
      ],
      "source": [
        "# tf_model.fit(dataset_train, validation_data=dataset_test, epochs=NUM_ROUNDS, batch_size=batch_size, verbose=1, use_multiprocessing=True)\n",
        "\n",
        "tf_model.fit(X_train, y_train, epochs=NUM_ROUNDS, batch_size=batch_size, verbose=1, use_multiprocessing=True)\n"
      ]
    },
    {
      "cell_type": "code",
      "source": [
        "proba_test = tf_model.predict(X_test)\n",
        "fpr_tf, tpr_tf, threshold = sklearn.metrics.roc_curve(y_test, proba_test)\n",
        "auc_tf = sklearn.metrics.auc(fpr_tf, tpr_tf)\n",
        "print(f'AUC-TF = {auc_tf:0.4}')"
      ],
      "metadata": {
        "id": "G5KI4yi1JqXp",
        "outputId": "5567ceb6-f912-47c9-8836-75b1bac5b1dc",
        "colab": {
          "base_uri": "https://localhost:8080/"
        }
      },
      "execution_count": 18,
      "outputs": [
        {
          "output_type": "stream",
          "name": "stdout",
          "text": [
            "5/5 [==============================] - 0s 2ms/step\n",
            "AUC-TF = 0.8334\n"
          ]
        }
      ]
    },
    {
      "cell_type": "markdown",
      "metadata": {
        "id": "i7hRe3fwiM54"
      },
      "source": [
        "# Regresja - TF Federated\n",
        "\n",
        "Utworzenie zbioru z danymi uczącymi, aby ułatwić przydział danych do poszczególnych klientów"
      ]
    },
    {
      "cell_type": "code",
      "execution_count": 19,
      "metadata": {
        "id": "1RhMqRjgCu1P"
      },
      "outputs": [],
      "source": [
        "df_X_train = pd.DataFrame(data=X_train, columns=raw_ds.columns[:-1])\n",
        "df_y_train = pd.DataFrame(data=y_train, columns=raw_ds.columns[-1:])"
      ]
    },
    {
      "cell_type": "markdown",
      "metadata": {
        "id": "5JdxUFL3Cu1P"
      },
      "source": [
        "Przypisanie identyfikatorów (indeksów) przykładów uczących do poszczególnych klientów. Obecnie wszyscy klienci otrzymują taką samą liczbę przykładów, przy czym rozkład klas nie jest zachowywany. Ta funkcja powinna zostać zmodyfikowna w ramach projektu."
      ]
    },
    {
      "cell_type": "code",
      "execution_count": 20,
      "metadata": {
        "id": "RkXA0vs7Cu1P"
      },
      "outputs": [],
      "source": [
        "def assign_samples_to_clients(data, n_clients):\n",
        "    from sklearn.model_selection import KFold\n",
        "    client_sample_ids = []\n",
        "    kf = KFold(n_splits=n_clients, shuffle=True, random_state=42)\n",
        "    for _, test_ids in kf.split(data):\n",
        "        client_sample_ids.append(test_ids)\n",
        "    return client_sample_ids"
      ]
    },
    {
      "cell_type": "code",
      "execution_count": 21,
      "metadata": {
        "id": "V1E34xyICu1P"
      },
      "outputs": [],
      "source": [
        "NUM_CLIENTS = 20\n",
        "# NUM_PARTICIPATING_PER_ROUND = round(NUM_CLIENTS/3)"
      ]
    },
    {
      "cell_type": "code",
      "execution_count": 22,
      "metadata": {
        "id": "buRxPV9TCu1P"
      },
      "outputs": [],
      "source": [
        "client_ids = list(range(NUM_CLIENTS))\n",
        "client_sample_ids = assign_samples_to_clients(X_train, NUM_CLIENTS)"
      ]
    },
    {
      "cell_type": "code",
      "execution_count": 23,
      "metadata": {
        "id": "rqPkkA22Cu1P"
      },
      "outputs": [],
      "source": [
        "def create_client_dataset(data, labels, client_ids, client_sample_ids):\n",
        "  def create_dataset_fn(client_id):\n",
        "    sample_ids = client_sample_ids[client_id]\n",
        "    return tf.data.Dataset.from_tensor_slices((data[sample_ids, :], labels[sample_ids]))\n",
        "\n",
        "  return tff.simulation.datasets.ClientData.from_clients_and_tf_fn(\n",
        "      client_ids=client_ids,\n",
        "      serializable_dataset_fn=create_dataset_fn)\n",
        "  \n",
        "def preprocess(dataset):\n",
        "    card = dataset.cardinality()\n",
        "    batch_size = 1 if card == tf.data.INFINITE_CARDINALITY or tf.data.UNKNOWN_CARDINALITY else round(card.numpy()/3)\n",
        "    return dataset.batch(batch_size)\n",
        "\n",
        "def make_federated_data(client_data, client_ids):\n",
        "  return [\n",
        "      preprocess(client_data.create_tf_dataset_for_client(id))\n",
        "      for id in client_ids\n",
        "  ]"
      ]
    },
    {
      "cell_type": "code",
      "execution_count": 24,
      "metadata": {
        "id": "yob66S7XCu1P"
      },
      "outputs": [],
      "source": [
        "client_dataset_train = create_client_dataset(X_train, y_train, client_ids, client_sample_ids)"
      ]
    },
    {
      "cell_type": "code",
      "execution_count": 25,
      "metadata": {
        "id": "mdKLOqLyCu1P"
      },
      "outputs": [],
      "source": [
        "spec_dataset = preprocess(client_dataset_train.create_tf_dataset_for_client(client_ids[0]))\n",
        "\n",
        "def model_fn():\n",
        "  keras_model = create_keras_model()\n",
        "  return tff.learning.models.from_keras_model(\n",
        "    keras_model,\n",
        "    input_spec=spec_dataset.element_spec,\n",
        "    loss=tf.keras.losses.BinaryCrossentropy(),\n",
        "    metrics=[\n",
        "        tf.keras.metrics.BinaryAccuracy(name='accuracy'),\n",
        "        tf.keras.metrics.AUC(name='auc')\n",
        "    ]\n",
        "  )\n",
        "  \n",
        "# Tworzymy iteracyjny proces uczący z wykorzystaniem bazowego algorytmu FedAvg\n",
        "trainer = tff.learning.algorithms.build_weighted_fed_avg(\n",
        "    model_fn,\n",
        "    client_optimizer_fn=lambda: tf.keras.optimizers.Adam(learning_rate=0.5), \n",
        "    server_optimizer_fn=lambda: tf.keras.optimizers.SGD(learning_rate=1.0),\n",
        "    use_experimental_simulation_loop = True\n",
        ")"
      ]
    },
    {
      "cell_type": "code",
      "execution_count": 26,
      "metadata": {
        "id": "gIHapRY9Cu1P"
      },
      "outputs": [],
      "source": [
        "tff_auc = defaultdict(lambda:0)"
      ]
    },
    {
      "cell_type": "code",
      "execution_count": 27,
      "metadata": {
        "id": "xjbbq1mkiUf2",
        "outputId": "3ab3dd5e-e341-4d4b-9f92-47fec5409d23",
        "colab": {
          "base_uri": "https://localhost:8080/"
        }
      },
      "outputs": [
        {
          "output_type": "stream",
          "name": "stdout",
          "text": [
            "# participating clients = 2\n",
            "round 1/12 | participants = [ 0 17]\n",
            "round 2/12 | participants = [19 16]\n",
            "round 3/12 | participants = [10  7]\n",
            "round 4/12 | participants = [ 0 18]\n",
            "round 5/12 | participants = [5 2]\n",
            "round 6/12 | participants = [3 1]\n",
            "round 7/12 | participants = [13 10]\n",
            "round 8/12 | participants = [17 18]\n",
            "round 9/12 | participants = [17 11]\n",
            "round 10/12 | participants = [4 9]\n",
            "round 11/12 | participants = [2 6]\n",
            "round 12/12 | participants = [14  3]\n",
            "5/5 [==============================] - 0s 4ms/step\n",
            "AUC = 0.7478, Loss=0.966\n",
            "# participating clients = 6\n",
            "round 1/12 | participants = [ 9  8  6 14 13  2]\n",
            "round 2/12 | participants = [ 5 11  4 19  9  1]\n",
            "round 3/12 | participants = [14 16 19 13  4 12]\n",
            "round 4/12 | participants = [ 6 11  4  1 18  9]\n",
            "round 5/12 | participants = [14  7 12  6 11  4]\n",
            "round 6/12 | participants = [ 7  3  4 18  1 12]\n",
            "round 7/12 | participants = [ 8  7  1  6  9 10]\n",
            "round 8/12 | participants = [17  4  3 10  6 13]\n",
            "round 9/12 | participants = [13 14 15 17  3  4]\n",
            "round 10/12 | participants = [ 4 19  8 17 18  5]\n",
            "round 11/12 | participants = [ 2 13  1 19  8 15]\n",
            "round 12/12 | participants = [ 3 14 13  5  8 10]\n",
            "5/5 [==============================] - 0s 4ms/step\n",
            "AUC = 0.7994, Loss=0.7058\n",
            "# participating clients = 10\n",
            "round 1/12 | participants = [18 15  3  2 12  6  9 10 16  4]\n",
            "round 2/12 | participants = [ 5  7  1  2  8 16 12  6 19 10]\n",
            "round 3/12 | participants = [10  5 14 13 12 17  6  8 11 18]\n",
            "round 4/12 | participants = [ 5  6 19  8  3 14  1  7  9 15]\n",
            "round 5/12 | participants = [12  5  4 15  8  3 14 16 18 10]\n",
            "round 6/12 | participants = [14 19 13 16 15  5  6 11  1 17]\n",
            "round 7/12 | participants = [ 1  6 11  9 19  4  7 14 15 18]\n",
            "round 8/12 | participants = [12 19  1  5  7  0  6  9 10 17]\n",
            "round 9/12 | participants = [16 14 11  3  7 15  5 17  0  9]\n",
            "round 10/12 | participants = [10 14 18  9 16  8 13  6 11  3]\n",
            "round 11/12 | participants = [10 19  8 12  5  0 13  4  7  3]\n",
            "round 12/12 | participants = [10  8  1 18  7  6  2  3 15 14]\n",
            "5/5 [==============================] - 0s 2ms/step\n",
            "AUC = 0.8455, Loss=0.5554\n",
            "# participating clients = 14\n",
            "round 1/12 | participants = [ 7 11 15 17  9  1  3 10 19  6  2 12  5  4]\n",
            "round 2/12 | participants = [ 2 12  1  9  6 18 13 14 16 11 15  0  5 10]\n",
            "round 3/12 | participants = [ 3 13  2 11 15 19  0 12  6 18 10 16  7  9]\n",
            "round 4/12 | participants = [15  3  9 14 13  7 19 11 17  5  6  4 18  2]\n",
            "round 5/12 | participants = [14 11  5 15  6 10  1  7 17 12  3  2  0  8]\n",
            "round 6/12 | participants = [12  9  3  7 19  1 15 14 13  6 16  8 10  4]\n",
            "round 7/12 | participants = [ 4  9  7 12 11 14  6  0 18  8  3 15  2 10]\n",
            "round 8/12 | participants = [12 15 13  6  2 17  8 10 14  5  1  4  7 19]\n",
            "round 9/12 | participants = [12  0 11  5  6  1  4 17  9  2  8 13 19 16]\n",
            "round 10/12 | participants = [ 7  3 16 14  2  6 12 10 13 15  1 18 11  8]\n",
            "round 11/12 | participants = [11 18 10 13 15  8  4  1 14  6  9  5 17 19]\n",
            "round 12/12 | participants = [16  7  8 17  3  4  0  6 15 19  5  9  1 12]\n",
            "5/5 [==============================] - 0s 2ms/step\n",
            "AUC = 0.8064, Loss=0.6496\n",
            "# participating clients = 18\n",
            "round 1/12 | participants = [ 7  4  0 10 17  5 15 18  1 13  2  9 14  8  3 12 19 11]\n",
            "round 2/12 | participants = [ 2  6 14 12 13 17 11  0 16 15  7 10  1 19  3  5  4  8]\n",
            "round 3/12 | participants = [ 0  9 11 16 13 19 17  1  5 12 18  4  7 14  2  6  8 10]\n",
            "round 4/12 | participants = [ 6 17 15  8  0 19 12  3 13 18  4 11  2  9  7 10 14  1]\n",
            "round 5/12 | participants = [11  9  8 12  6 15  7  1 16 18  2 19  3 10 17  4  5 13]\n",
            "round 6/12 | participants = [11 13  3 18 16 14  9 12  2  6  5 19 10 15 17  8  4  0]\n",
            "round 7/12 | participants = [17  9  6 13 14 19  3 16  4 18 12  5  7  0 15  2 11  1]\n",
            "round 8/12 | participants = [19 14 17 15 10  0  5  4  2 11  6 16  7  1  8  9 12  3]\n",
            "round 9/12 | participants = [15 10  8  0  4  3 18  9 17 12 11  5 19  6  2 16  7 13]\n",
            "round 10/12 | participants = [11 14 12  7  8 13 15  2 16  9  1 18 19 17  6 10  4  0]\n",
            "round 11/12 | participants = [ 6  5  0 16  8 15 17 13  9  2 10  1 11  3 18 19  4  7]\n",
            "round 12/12 | participants = [ 4  8 13 15  2  3 11  0  1 14 12 19 18  6 17 16  5  7]\n",
            "5/5 [==============================] - 0s 3ms/step\n",
            "AUC = 0.811, Loss=0.6312\n",
            "# participating clients = 20\n",
            "round 1/12 | participants = [ 3  6  1 13 19  0 10 15 12 18  2  5  8 17 14 11 16  9  7  4]\n",
            "round 2/12 | participants = [10  6  5 17  2 18  1 12 11 19  9 13 15  8 16  4 14  7  0  3]\n",
            "round 3/12 | participants = [13  9 16  8  4  3 11  7 18  2 12  0 14 15 19 17  6  1  5 10]\n",
            "round 4/12 | participants = [11  9  2  1  4 13 18 12  7 19  5 14 15  8  3  0  6 16 17 10]\n",
            "round 5/12 | participants = [19  8  6  4 11  9 17  3  5 10 13 14  0  1  2  7 15 12 16 18]\n",
            "round 6/12 | participants = [ 7  8  3 15  5 12  4 16 14 10 19  0 11  1 13 18 17  9  2  6]\n",
            "round 7/12 | participants = [ 6 17 13 18  8  3 10  5  9 12 15  1 19 11  0 16  2  4 14  7]\n",
            "round 8/12 | participants = [ 7 12 18 19  5  1  8 11  3 10  2  4 14  0 16  9  6 17 15 13]\n",
            "round 9/12 | participants = [12 17 15 13 16  0  8  7  5 18  4  3 11 14  6  2  1  9 10 19]\n",
            "round 10/12 | participants = [ 5 17  3 10 12 15 19  4 18  7  8 14  2  1  0  6 13  9 16 11]\n",
            "round 11/12 | participants = [ 6 19  2 11 16  7 13  0 14 15  8  3  9 17 18  5 10  4  1 12]\n",
            "round 12/12 | participants = [ 2 10 13 17 15 16 18  3 14  0 19  6  4  8 12 11  1  7  5  9]\n",
            "5/5 [==============================] - 0s 2ms/step\n",
            "AUC = 0.8266, Loss=0.5921\n"
          ]
        }
      ],
      "source": [
        "# Zewnętrzna pętla pozwala na sprawdzanie różnej liczby klientów biorących udział w każdej rundzie obliczeń.\n",
        "# Na potrzeby projektu należy założyć, że wszyscy klienci uczestniczą w obliczeniach\n",
        "\n",
        "possible_num_clients_per_round = list(range(2, NUM_CLIENTS, 4))\n",
        "\n",
        "if not NUM_CLIENTS in possible_num_clients_per_round:\n",
        "  possible_num_clients_per_round.append(NUM_CLIENTS)\n",
        "\n",
        "for num_clients_per_round in possible_num_clients_per_round:\n",
        "  print(f\"# participating clients = {num_clients_per_round}\")\n",
        "  \n",
        "  state = trainer.initialize()\n",
        "  tff_model = create_keras_model()\n",
        "\n",
        "  for r in range(NUM_ROUNDS):\n",
        "    participating_client_ids = np.random.choice(range(NUM_CLIENTS), size=num_clients_per_round, replace=False)\n",
        "    print(f\"round {r + 1}/{NUM_ROUNDS} | participants = {participating_client_ids}\")\n",
        "    federated_train_data = make_federated_data(client_dataset_train, participating_client_ids)\n",
        "    state, metrics = trainer.next(state, federated_train_data)\n",
        "    # print(n_clients, i_round, str(metrics))\n",
        "\n",
        "  weights = trainer.get_model_weights(state)\n",
        "  weights.assign_weights_to(tff_model)\n",
        "\n",
        "  proba_test = tff_model.predict(X_test)\n",
        "  fpr_test, tpr_test, _ = sklearn.metrics.roc_curve(y_test, proba_test)\n",
        "  auc_test = sklearn.metrics.auc(fpr_test, tpr_test)\n",
        "  loss_test = tf.keras.losses.binary_crossentropy(y_test, np.reshape(proba_test, [-1]))\n",
        "  print(f'AUC = {auc_test:0.4}, Loss={loss_test:0.4}')\n",
        "\n",
        "  tff_auc[num_clients_per_round] = (auc_test, fpr_test, tpr_test)\n"
      ]
    },
    {
      "cell_type": "markdown",
      "source": [
        "### Przydział przykładów do klientów funkcją beta"
      ],
      "metadata": {
        "id": "dwHMhUH1OPyd"
      }
    },
    {
      "cell_type": "code",
      "source": [
        "def assign_samples_to_clients_beta(data, n_clients, alpha=2, beta=2):\n",
        "    client_sample_ids = []\n",
        "    indices = np.arange(data.shape[0]).tolist()\n",
        "    total_samples = len(indices)\n",
        "\n",
        "    # generate probabilities from beta\n",
        "    probabilities = np.random.beta(alpha, beta, size=n_clients)\n",
        "    total_probability = np.sum(probabilities)\n",
        "\n",
        "    for probability in probabilities:\n",
        "        num_indices = int(round(probability * total_samples / total_probability))\n",
        "        client_indices = indices[:num_indices]\n",
        "        indices = indices[num_indices:]\n",
        "        total_probability -= probability\n",
        "        client_sample_ids.append(client_indices)\n",
        "\n",
        "    # distribute remaining indices evenly\n",
        "    remainder = len(indices)\n",
        "    for i, group in enumerate(client_sample_ids):\n",
        "        if remainder > 0:\n",
        "            group.append(indices[i % remainder])\n",
        "    \n",
        "    return client_sample_ids"
      ],
      "metadata": {
        "id": "WAEPjIzhOazi"
      },
      "execution_count": 28,
      "outputs": []
    },
    {
      "cell_type": "code",
      "source": [
        "tff_beta = {}\n",
        "\n",
        "for name, alpha, beta in [(\"average\", 2, 2), (\"low\", 2, 5), (\"high\", 5, 2)]:\n",
        "    print(f\"# Processing {name}\")\n",
        "\n",
        "    client_sample_ids = assign_samples_to_clients_beta(\n",
        "        X_train, NUM_CLIENTS, alpha=alpha, beta=beta\n",
        "        )\n",
        "    client_dataset_train = create_client_dataset(X_train, y_train, client_ids, client_sample_ids)\n",
        "    trainer = tff.learning.algorithms.build_weighted_fed_avg(\n",
        "        model_fn,\n",
        "        client_optimizer_fn=lambda: tf.keras.optimizers.Adam(learning_rate=0.5), \n",
        "        server_optimizer_fn=lambda: tf.keras.optimizers.SGD(learning_rate=1.0),\n",
        "        use_experimental_simulation_loop = True\n",
        "    )\n",
        "\n",
        "    num_clients_per_round = NUM_CLIENTS\n",
        "    print(f\"# participating clients = {num_clients_per_round}\")\n",
        "    \n",
        "    state = trainer.initialize()\n",
        "    tff_model = create_keras_model()\n",
        "\n",
        "    for r in range(NUM_ROUNDS):\n",
        "      participating_client_ids = np.random.choice(range(NUM_CLIENTS), size=num_clients_per_round, replace=False)\n",
        "      print(f\"round {r + 1}/{NUM_ROUNDS} | participants = {participating_client_ids}\")\n",
        "      federated_train_data = make_federated_data(client_dataset_train, participating_client_ids)\n",
        "      state, metrics = trainer.next(state, federated_train_data)\n",
        "      # print(n_clients, i_round, str(metrics))\n",
        "\n",
        "    weights = trainer.get_model_weights(state)\n",
        "    weights.assign_weights_to(tff_model)\n",
        "\n",
        "    proba_test = tff_model.predict(X_test)\n",
        "    fpr_test, tpr_test, _ = sklearn.metrics.roc_curve(y_test, proba_test)\n",
        "    auc_test = sklearn.metrics.auc(fpr_test, tpr_test)\n",
        "    loss_test = tf.keras.losses.binary_crossentropy(y_test, np.reshape(proba_test, [-1]))\n",
        "    print(f'AUC = {auc_test:0.4}, Loss={loss_test:0.4}')\n",
        "\n",
        "    tff_beta[name] = (auc_test, fpr_test, tpr_test)"
      ],
      "metadata": {
        "id": "--RDIs55PlY-",
        "outputId": "0a5cf7fc-bee8-4c04-fb30-fb398a91ca51",
        "colab": {
          "base_uri": "https://localhost:8080/"
        }
      },
      "execution_count": 29,
      "outputs": [
        {
          "output_type": "stream",
          "name": "stdout",
          "text": [
            "# Processing average\n",
            "# participating clients = 20\n",
            "round 1/12 | participants = [10 19 16  8 12 18  5 17 15  1  7  2 13  0  4  3  6  9 14 11]\n",
            "round 2/12 | participants = [15  6  5  1 12  2 19 16  4  9 10 11  3  7 17  0 18  8 14 13]\n",
            "round 3/12 | participants = [ 9  0 15 14 16 11  2  4  5 17  7 18 19  3  6  8  1 12 10 13]\n",
            "round 4/12 | participants = [12 10 13  7  9 14 11  1  3 17 19  0  6 18 15  4  5  2 16  8]\n",
            "round 5/12 | participants = [13  9 15 10  6  0 18  1  4  3 11  8 14  7 12  5 19  2 16 17]\n",
            "round 6/12 | participants = [12 17 16  0 19  5  6  3 13 18 10  4 15  7 14  8  9 11  1  2]\n",
            "round 7/12 | participants = [19  6  3 13 14  8 17 10  9  2  7  1  0 16 18 11 12 15  4  5]\n",
            "round 8/12 | participants = [ 1  9 16 17 11  5  2  6  3  4 13 14 12  8 19 10  0  7 15 18]\n",
            "round 9/12 | participants = [ 7  8 14  0  2  5 13 16 19 11  3  1  6  4 10 15 17  9 18 12]\n",
            "round 10/12 | participants = [ 0 13 11 19 17  3 14 10  4 18  8  9  6 16  5 15  2 12  1  7]\n",
            "round 11/12 | participants = [ 8 14  2 18  3  4  6 13 12  1 10  7 17 15  0  5  9 19 11 16]\n",
            "round 12/12 | participants = [12  7 13 15  3  4  8 14  1 18 17  9 16  2  5  0 10  6 11 19]\n",
            "5/5 [==============================] - 0s 2ms/step\n",
            "AUC = 0.8452, Loss=0.5468\n",
            "# Processing low\n",
            "# participating clients = 20\n",
            "round 1/12 | participants = [13  0 15  4  2  9 17  3 12 10  7 11  1 16 14  6 18 19  8  5]\n",
            "round 2/12 | participants = [10 12 11  0  4  7  6 17 14  1 13  8  2 18 16  9  5  3 15 19]\n",
            "round 3/12 | participants = [15 11  0 17 14  8 10  9  5  1  2 19  4  6 16  7 12  3 13 18]\n",
            "round 4/12 | participants = [17 12 10  1  5 16  8 13  3  7 18  4 15 11  6  0 14 19  9  2]\n",
            "round 5/12 | participants = [ 9  0  7 11  4 10 12 19  2  6  5 14 13 16 17 15  1  3  8 18]\n",
            "round 6/12 | participants = [12 15 10 16  8  5 13  4 11  1 19  6  3 18  9  2  0 14  7 17]\n",
            "round 7/12 | participants = [ 9 12 19 15  3 18  7  4  2 16 11  8 10  0  5 17  1  6 13 14]\n",
            "round 8/12 | participants = [15  6  1 18 11  7 16  3  4  0  8 19 12 17 13  5  2  9 10 14]\n",
            "round 9/12 | participants = [ 8  6 17  2 12 19  9  1  3  5 15  7 13  0 16 11 18 14  4 10]\n",
            "round 10/12 | participants = [ 7 11  8  6 17 14  1 13  3  9 18 12 19 15 10 16  4  5  2  0]\n",
            "round 11/12 | participants = [16 12  2  0  4  7  9  8 15 13 19  3  5 11 18  1 10 14  6 17]\n",
            "round 12/12 | participants = [18 19  2  3 12  7 16  8 15 11 10  9 13  6  0  1 17 14  4  5]\n",
            "5/5 [==============================] - 0s 3ms/step\n",
            "AUC = 0.8233, Loss=0.5964\n",
            "# Processing high\n",
            "# participating clients = 20\n",
            "round 1/12 | participants = [ 2  8  1 10 14  4 17 11 12  7  0 13  6  5 15 19  3 18  9 16]\n",
            "round 2/12 | participants = [ 8  5 11 19 13  6 12  2 15  1  3  4 10 17  0 16  7 18  9 14]\n",
            "round 3/12 | participants = [ 7 12 18 19 13  8  5 10 16  6 15  1 11  2 17 14  4  0  9  3]\n",
            "round 4/12 | participants = [ 5  3  0 18 14  7 19 11  4  6  2  1 16 17 15 12 13  8  9 10]\n",
            "round 5/12 | participants = [19 17  1 12 14  8  2 11  0  4  7 16 18 15  5  9  3 13  6 10]\n",
            "round 6/12 | participants = [ 8  9 19  0 18  2 14  5  7 17 10 13  4 15  1 11 16 12  3  6]\n",
            "round 7/12 | participants = [17 13  8 14  4  9 12 10 15  7  3  6 16  2  0 19 18 11  1  5]\n",
            "round 8/12 | participants = [ 1  8 19 17 13  4  5 12 10  6  2  3  7 16  0 11 18  9 15 14]\n",
            "round 9/12 | participants = [ 8  2 16 12 13  9 15 14 10  1  3 18 11  4  0  6  7 17  5 19]\n",
            "round 10/12 | participants = [17 16 11  4 18  7 15  5 12 19 14  9  6 13  3  2 10  0  8  1]\n",
            "round 11/12 | participants = [12  8 19 10 15  3  6 17 13 16  7  2  1  5 18  0 14 11  9  4]\n",
            "round 12/12 | participants = [ 4 17  7 11 10 16  6 15  0  5 12 14  8  9 18  3 13  2 19  1]\n",
            "5/5 [==============================] - 0s 2ms/step\n",
            "AUC = 0.8432, Loss=0.5441\n"
          ]
        }
      ]
    },
    {
      "cell_type": "markdown",
      "metadata": {
        "id": "SMeDOEEbCu1P"
      },
      "source": [
        "### Porównanie stworzonych modeli"
      ]
    },
    {
      "cell_type": "code",
      "execution_count": 30,
      "metadata": {
        "id": "MHWXzjiRic62",
        "outputId": "03fbe2ef-da5f-41e4-fb8c-d09d704e457b",
        "colab": {
          "base_uri": "https://localhost:8080/",
          "height": 834
        }
      },
      "outputs": [
        {
          "output_type": "display_data",
          "data": {
            "text/plain": [
              "<Figure size 1200x900 with 1 Axes>"
            ],
            "image/png": "[encoded data removed]"
          },
          "metadata": {}
        }
      ],
      "source": [
        "figure(num=None, figsize=(8, 6), dpi=150, facecolor='w', edgecolor='k')\n",
        "plt.title('ROC')\n",
        "plt.plot(fpr_sk, tpr_sk, label = f'sk-LR AUC = {auc_sk:0.3f}')\n",
        "plt.plot(fpr_tf, tpr_tf, label = f'tf-LR (centralized) AUC = {auc_tf:0.3f}')\n",
        "# Wyniki dla podejścia sfederowanego\n",
        "for num_participants, (auc_tff, fpr_tff, tpr_tff) in tff_auc.items():\n",
        "  plt.plot(fpr_tff, tpr_tff, label = f'tff-LR (federated, p = {num_participants}) AUC = {auc_tff:0.3f}')\n",
        "for name, (auc_tff, fpr_tff, tpr_tff) in tff_beta.items():\n",
        "  plt.plot(fpr_tff, tpr_tff, label = f'beta-{name} tff-LR (federated, p = {num_participants}) AUC = {auc_tff:0.3f}')\n",
        "plt.legend(loc = 'lower right')\n",
        "plt.plot([0, 1], [0, 1],'r--')\n",
        "plt.xlim([0, 1])\n",
        "plt.ylim([0, 1])\n",
        "plt.ylabel('TPR')\n",
        "plt.xlabel('FPR')\n",
        "plt.show()"
      ]
    },
    {
      "cell_type": "code",
      "execution_count": 30,
      "metadata": {
        "id": "RGBxq5VuCu1Q"
      },
      "outputs": [],
      "source": []
    }
  ],
  "metadata": {
    "colab": {
      "provenance": []
    },
    "kernelspec": {
      "display_name": "Python 3 (ipykernel)",
      "language": "python",
      "name": "python3"
    },
    "language_info": {
      "codemirror_mode": {
        "name": "ipython",
        "version": 3
      },
      "file_extension": ".py",
      "mimetype": "text/x-python",
      "name": "python",
      "nbconvert_exporter": "python",
      "pygments_lexer": "ipython3",
      "version": "3.10.6"
    }
  },
  "nbformat": 4,
  "nbformat_minor": 0
}