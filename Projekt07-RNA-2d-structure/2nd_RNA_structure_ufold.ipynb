{
  "nbformat": 4,
  "nbformat_minor": 0,
  "metadata": {
    "colab": {
      "provenance": [],
      "gpuType": "T4"
    },
    "kernelspec": {
      "name": "python3",
      "display_name": "Python 3"
    },
    "language_info": {
      "name": "python"
    },
    "accelerator": "GPU"
  },
  "cells": [
    {
      "cell_type": "code",
      "execution_count": null,
      "metadata": {
        "colab": {
          "base_uri": "https://localhost:8080/"
        },
        "id": "-gD8ats_R4Bo",
        "outputId": "2abfb504-f693-4ff7-f1b5-dbf8b842d16d"
      },
      "outputs": [
        {
          "output_type": "stream",
          "name": "stdout",
          "text": [
            "Cloning into 'UFold'...\n",
            "remote: Enumerating objects: 263, done.\u001b[K\n",
            "remote: Counting objects: 100% (128/128), done.\u001b[K\n",
            "remote: Compressing objects: 100% (57/57), done.\u001b[K\n",
            "remote: Total 263 (delta 108), reused 71 (delta 71), pack-reused 135\u001b[K\n",
            "Receiving objects: 100% (263/263), 507.25 KiB | 5.07 MiB/s, done.\n",
            "Resolving deltas: 100% (140/140), done.\n"
          ]
        }
      ],
      "source": [
        "!git clone https://github.com/MMedzin/UFold.git"
      ]
    },
    {
      "cell_type": "code",
      "source": [
        "!unzip UFold/data/SIwB-lab-07-data.zip"
      ],
      "metadata": {
        "id": "u35ppv8Hcj3n"
      },
      "execution_count": null,
      "outputs": []
    },
    {
      "cell_type": "code",
      "source": [
        "!rm -r UFold/data/SIwB-lab-07-data/ArchiveII_bpseq \\\n",
        "UFold/data/SIwB-lab-07-data/PDB_bpseq"
      ],
      "metadata": {
        "id": "oIGetLLrbqQo"
      },
      "execution_count": null,
      "outputs": []
    },
    {
      "cell_type": "code",
      "source": [
        "!mkdir UFold/data/SIwB-lab-07-data/ArchiveII_bpseq \\\n",
        "UFold/data/SIwB-lab-07-data/PDB_bpseq"
      ],
      "metadata": {
        "id": "uohCZ5cndULk"
      },
      "execution_count": null,
      "outputs": []
    },
    {
      "cell_type": "code",
      "source": [
        "!cp UFold/data/SIwB-lab-07-data/ArchiveII/*.bpseq UFold/data/SIwB-lab-07-data/ArchiveII_bpseq"
      ],
      "metadata": {
        "id": "gccZSawrSdaI"
      },
      "execution_count": null,
      "outputs": []
    },
    {
      "cell_type": "code",
      "source": [
        "!cp UFold/data/SIwB-lab-07-data/PDB/*.bpseq UFold/data/SIwB-lab-07-data/PDB_bpseq"
      ],
      "metadata": {
        "id": "3ki8pgfMdDq_"
      },
      "execution_count": null,
      "outputs": []
    },
    {
      "cell_type": "code",
      "source": [
        "from pathlib import Path\n",
        "import shutil\n",
        "\n",
        "def split_directory(directory_path, data_fraction=0.1):\n",
        "    # Create subdirectories\n",
        "    subdirectories = [directory_path / \"train\", directory_path / \"test\", directory_path / \"valid\"]\n",
        "    for subdirectory in subdirectories:\n",
        "        subdirectory.mkdir(parents=True, exist_ok=True)\n",
        "    \n",
        "    # Iterate through files in the directory\n",
        "    for i, file_path in enumerate(directory_path.iterdir()):\n",
        "        if file_path.is_file():\n",
        "            # Calculate the modulo result\n",
        "            modulo_result = i % (5 / data_fraction) \n",
        "            \n",
        "            # Determine the target subdirectory based on the modulo result\n",
        "            if modulo_result in [0, 1, 2]:\n",
        "                target_subdirectory = subdirectories[0]\n",
        "            elif modulo_result == 3:\n",
        "                target_subdirectory = subdirectories[1]\n",
        "            elif modulo_result == 4:\n",
        "                target_subdirectory = subdirectories[2]\n",
        "            else:\n",
        "              continue\n",
        "            \n",
        "            # Move the file to the target subdirectory\n",
        "            shutil.move(str(file_path), str(target_subdirectory))"
      ],
      "metadata": {
        "id": "tHdueM1EJX0R"
      },
      "execution_count": null,
      "outputs": []
    },
    {
      "cell_type": "code",
      "source": [
        "directory_path = Path('UFold/data/SIwB-lab-07-data/PDB_bpseq')\n",
        "split_directory(directory_path, 1)\n",
        "\n",
        "directory_path = Path('UFold/data/SIwB-lab-07-data/ArchiveII_bpseq')\n",
        "split_directory(directory_path, 0.1)"
      ],
      "metadata": {
        "id": "lvNT4X9bb1U3"
      },
      "execution_count": null,
      "outputs": []
    },
    {
      "cell_type": "code",
      "source": [
        "!cd UFold && python process_data_newdataset.py data/SIwB-lab-07-data/ArchiveII_bpseq/train data/ArchiveII_train.cPickle\n",
        "!cd UFold && python process_data_newdataset.py data/SIwB-lab-07-data/ArchiveII_bpseq/test data/ArchiveII_test.cPickle\n",
        "!cd UFold && python process_data_newdataset.py data/SIwB-lab-07-data/ArchiveII_bpseq/valid data/ArchiveII_valid.cPickle"
      ],
      "metadata": {
        "colab": {
          "base_uri": "https://localhost:8080/"
        },
        "id": "ewfGl2z1Te0E",
        "outputId": "7c7575a2-fdaf-451d-9b2f-5f7aa6ad3310"
      },
      "execution_count": null,
      "outputs": [
        {
          "output_type": "stream",
          "name": "stdout",
          "text": [
            "current processing 1/240\n",
            "237\n",
            "current processing 1/80\n",
            "79\n",
            "current processing 1/80\n",
            "76\n"
          ]
        }
      ]
    },
    {
      "cell_type": "code",
      "source": [
        "!cd UFold && python process_data_newdataset.py data/SIwB-lab-07-data/PDB_bpseq/train data/PDB_train.cPickle\n",
        "!cd UFold && python process_data_newdataset.py data/SIwB-lab-07-data/PDB_bpseq/test data/PDB_test.cPickle\n",
        "!cd UFold && python process_data_newdataset.py data/SIwB-lab-07-data/PDB_bpseq/valid data/PDB_valid.cPickle"
      ],
      "metadata": {
        "colab": {
          "base_uri": "https://localhost:8080/"
        },
        "id": "IIIc47-24pFe",
        "outputId": "fa547a2a-f7b0-4321-be92-7423ca561849"
      },
      "execution_count": null,
      "outputs": [
        {
          "output_type": "stream",
          "name": "stdout",
          "text": [
            "current processing 1/356\n",
            "330\n",
            "current processing 1/119\n",
            "110\n",
            "current processing 1/119\n",
            "108\n"
          ]
        }
      ]
    },
    {
      "cell_type": "code",
      "source": [
        "!pip install torch"
      ],
      "metadata": {
        "colab": {
          "base_uri": "https://localhost:8080/"
        },
        "id": "NNdR-y2GX5hf",
        "outputId": "164d9a0e-61da-447c-e840-0ad6243821e7"
      },
      "execution_count": null,
      "outputs": [
        {
          "output_type": "stream",
          "name": "stdout",
          "text": [
            "Looking in indexes: https://pypi.org/simple, https://us-python.pkg.dev/colab-wheels/public/simple/\n",
            "Requirement already satisfied: torch in /usr/local/lib/python3.10/dist-packages (2.0.1+cu118)\n",
            "Requirement already satisfied: filelock in /usr/local/lib/python3.10/dist-packages (from torch) (3.12.0)\n",
            "Requirement already satisfied: typing-extensions in /usr/local/lib/python3.10/dist-packages (from torch) (4.5.0)\n",
            "Requirement already satisfied: sympy in /usr/local/lib/python3.10/dist-packages (from torch) (1.11.1)\n",
            "Requirement already satisfied: networkx in /usr/local/lib/python3.10/dist-packages (from torch) (3.1)\n",
            "Requirement already satisfied: jinja2 in /usr/local/lib/python3.10/dist-packages (from torch) (3.1.2)\n",
            "Requirement already satisfied: triton==2.0.0 in /usr/local/lib/python3.10/dist-packages (from torch) (2.0.0)\n",
            "Requirement already satisfied: cmake in /usr/local/lib/python3.10/dist-packages (from triton==2.0.0->torch) (3.25.2)\n",
            "Requirement already satisfied: lit in /usr/local/lib/python3.10/dist-packages (from triton==2.0.0->torch) (16.0.5)\n",
            "Requirement already satisfied: MarkupSafe>=2.0 in /usr/local/lib/python3.10/dist-packages (from jinja2->torch) (2.1.2)\n",
            "Requirement already satisfied: mpmath>=0.19 in /usr/local/lib/python3.10/dist-packages (from sympy->torch) (1.3.0)\n"
          ]
        }
      ]
    },
    {
      "cell_type": "code",
      "source": [
        "!pip install munch==2.5.0"
      ],
      "metadata": {
        "colab": {
          "base_uri": "https://localhost:8080/"
        },
        "id": "ao8O-QAVh_KM",
        "outputId": "4751a41b-b8a4-496a-87f6-de02683304d1"
      },
      "execution_count": null,
      "outputs": [
        {
          "output_type": "stream",
          "name": "stdout",
          "text": [
            "Looking in indexes: https://pypi.org/simple, https://us-python.pkg.dev/colab-wheels/public/simple/\n",
            "Collecting munch==2.5.0\n",
            "  Downloading munch-2.5.0-py2.py3-none-any.whl (10 kB)\n",
            "Requirement already satisfied: six in /usr/local/lib/python3.10/dist-packages (from munch==2.5.0) (1.16.0)\n",
            "Installing collected packages: munch\n",
            "Successfully installed munch-2.5.0\n"
          ]
        }
      ]
    },
    {
      "cell_type": "code",
      "source": [
        "!pip install pandas"
      ],
      "metadata": {
        "colab": {
          "base_uri": "https://localhost:8080/"
        },
        "id": "UX44yMqeiBsI",
        "outputId": "8f176d0e-249f-438b-c76a-28ca13023354"
      },
      "execution_count": null,
      "outputs": [
        {
          "output_type": "stream",
          "name": "stdout",
          "text": [
            "Looking in indexes: https://pypi.org/simple, https://us-python.pkg.dev/colab-wheels/public/simple/\n",
            "Requirement already satisfied: pandas in /usr/local/lib/python3.10/dist-packages (1.5.3)\n",
            "Requirement already satisfied: python-dateutil>=2.8.1 in /usr/local/lib/python3.10/dist-packages (from pandas) (2.8.2)\n",
            "Requirement already satisfied: pytz>=2020.1 in /usr/local/lib/python3.10/dist-packages (from pandas) (2022.7.1)\n",
            "Requirement already satisfied: numpy>=1.21.0 in /usr/local/lib/python3.10/dist-packages (from pandas) (1.22.4)\n",
            "Requirement already satisfied: six>=1.5 in /usr/local/lib/python3.10/dist-packages (from python-dateutil>=2.8.1->pandas) (1.16.0)\n"
          ]
        }
      ]
    },
    {
      "cell_type": "code",
      "source": [
        "!pip install scikit_learn"
      ],
      "metadata": {
        "colab": {
          "base_uri": "https://localhost:8080/"
        },
        "id": "1qJTQLJfiGBZ",
        "outputId": "e1f00cdf-a2db-46fe-effe-909e31d8c550"
      },
      "execution_count": null,
      "outputs": [
        {
          "output_type": "stream",
          "name": "stdout",
          "text": [
            "Looking in indexes: https://pypi.org/simple, https://us-python.pkg.dev/colab-wheels/public/simple/\n",
            "Requirement already satisfied: scikit_learn in /usr/local/lib/python3.10/dist-packages (1.2.2)\n",
            "Requirement already satisfied: numpy>=1.17.3 in /usr/local/lib/python3.10/dist-packages (from scikit_learn) (1.22.4)\n",
            "Requirement already satisfied: scipy>=1.3.2 in /usr/local/lib/python3.10/dist-packages (from scikit_learn) (1.10.1)\n",
            "Requirement already satisfied: joblib>=1.1.1 in /usr/local/lib/python3.10/dist-packages (from scikit_learn) (1.2.0)\n",
            "Requirement already satisfied: threadpoolctl>=2.0.0 in /usr/local/lib/python3.10/dist-packages (from scikit_learn) (3.1.0)\n"
          ]
        }
      ]
    },
    {
      "cell_type": "code",
      "source": [
        "!pip install scipy"
      ],
      "metadata": {
        "colab": {
          "base_uri": "https://localhost:8080/"
        },
        "id": "g8xgo_8ViIW5",
        "outputId": "1dfcb2fe-0700-4e88-8a06-718db0cbb2e6"
      },
      "execution_count": null,
      "outputs": [
        {
          "output_type": "stream",
          "name": "stdout",
          "text": [
            "Looking in indexes: https://pypi.org/simple, https://us-python.pkg.dev/colab-wheels/public/simple/\n",
            "Requirement already satisfied: scipy in /usr/local/lib/python3.10/dist-packages (1.10.1)\n",
            "Requirement already satisfied: numpy<1.27.0,>=1.19.5 in /usr/local/lib/python3.10/dist-packages (from scipy) (1.22.4)\n"
          ]
        }
      ]
    },
    {
      "cell_type": "code",
      "source": [
        "!cd UFold/ && \\\n",
        "python ufold_train.py \\\n",
        "--train_files ArchiveII_train ArchiveII_valid \\\n",
        "--model_pt_tag ArchiveII_unet"
      ],
      "metadata": {
        "colab": {
          "base_uri": "https://localhost:8080/"
        },
        "id": "pYhApVwpUacP",
        "outputId": "73424bcd-6f0c-40f2-bb49-35f70fd7d667"
      },
      "execution_count": null,
      "outputs": [
        {
          "output_type": "stream",
          "name": "stdout",
          "text": [
            "#####Stage 1#####\n",
            "Here is the configuration of this run: \n",
            "Munch({'gpu': '1', 'u_net_d': 2, 'BATCH_SIZE': 1, 'batch_size_stage_1': 1, 'OUT_STEP': 10, 'LOAD_MODEL': True, 'rho_per_position': 'matrix', 'data_type': 'rnastralign_all_600', 'model_type': 'pretrained', 'epoches_first': 10, 'step_gamma': 1, 'k': 1})\n",
            "Loading dataset:  ArchiveII_train\n",
            "/content/UFold/ufold/data_generator.py:43: VisibleDeprecationWarning: Creating an ndarray from ragged nested sequences (which is a list-or-tuple of lists-or-tuples-or ndarrays with different lengths or shapes) is deprecated. If you meant to do this, you must specify 'dtype=object' when creating the ndarray.\n",
            "  self.pairs = np.array([instance[-1] for instance in self.data])\n",
            "Loading dataset:  ArchiveII_valid\n",
            "Data Loading Done!!!\n",
            "/usr/local/lib/python3.10/dist-packages/torch/utils/data/dataloader.py:560: UserWarning: This DataLoader will create 6 worker processes in total. Our suggested max number of worker in current system is 2, which is smaller than what this DataLoader is going to create. Please be aware that excessive worker creation might get DataLoader running slow or even freeze, lower the worker number to avoid potential slowness/freeze if necessary.\n",
            "  warnings.warn(_create_warning_msg(\n",
            "start training...\n",
            "  0% 0/10 [00:00<?, ?it/s]0 done in batch.\n",
            "100 done in batch.\n",
            "200 done in batch.\n",
            "300 done in batch.\n",
            "Training log: epoch: 0, step: 3, loss: 0.9556252360343933\n",
            " 10% 1/10 [06:02<54:19, 362.16s/it]0 done in batch.\n",
            "100 done in batch.\n",
            "200 done in batch.\n",
            "300 done in batch.\n",
            "Training log: epoch: 1, step: 7, loss: 0.9086740016937256\n",
            " 20% 2/10 [11:58<47:50, 358.86s/it]0 done in batch.\n",
            "100 done in batch.\n",
            " 20% 2/10 [14:34<58:18, 437.35s/it]\n",
            "Traceback (most recent call last):\n",
            "  File \"/content/UFold/ufold_train.py\", line 224, in <module>\n",
            "    main()\n",
            "  File \"/content/UFold/ufold_train.py\", line 214, in main\n",
            "    train(contact_net,train_merge_generator,epoches_first, model_pt_tag=model_pt_tag)\n",
            "  File \"/content/UFold/ufold_train.py\", line 54, in train\n",
            "    for i_batch, (contacts, seq_embeddings, matrix_reps, seq_lens, seq_ori, seq_name) in enumerate(train_merge_generator):\n",
            "  File \"/usr/local/lib/python3.10/dist-packages/torch/utils/data/dataloader.py\", line 633, in __next__\n",
            "    data = self._next_data()\n",
            "  File \"/usr/local/lib/python3.10/dist-packages/torch/utils/data/dataloader.py\", line 1328, in _next_data\n",
            "    idx, data = self._get_data()\n",
            "  File \"/usr/local/lib/python3.10/dist-packages/torch/utils/data/dataloader.py\", line 1294, in _get_data\n",
            "  File \"/usr/local/lib/python3.10/dist-packages/torch/utils/data/dataloader.py\", line 1132, in _try_get_data\n",
            "    data = self._data_queue.get(timeout=timeout)\n",
            "  File \"/usr/lib/python3.10/multiprocessing/queues.py\", line 113, in get\n",
            "    if not self._poll(timeout):\n",
            "  File \"/usr/lib/python3.10/multiprocessing/connection.py\", line 257, in poll\n",
            "    return self._poll(timeout)\n",
            "  File \"/usr/lib/python3.10/multiprocessing/connection.py\", line 424, in _poll\n",
            "    r = wait([self], timeout)\n",
            "  File \"/usr/lib/python3.10/multiprocessing/connection.py\", line 931, in wait\n",
            "    ready = selector.select(timeout)\n",
            "  File \"/usr/lib/python3.10/selectors.py\", line 416, in select\n",
            "    fd_event_list = self._selector.poll(timeout)\n",
            "KeyboardInterrupt\n",
            "^C\n"
          ]
        }
      ]
    },
    {
      "cell_type": "code",
      "source": [
        "!cd UFold/ && \\\n",
        "python ufold_train.py \\\n",
        "--train_files PDB_train PDB_valid \\\n",
        "--model_pt_tag PDB_unet"
      ],
      "metadata": {
        "id": "2p8Hs9x8NVqu",
        "colab": {
          "base_uri": "https://localhost:8080/"
        },
        "outputId": "fca825ac-8b06-4fdf-b843-3544c3d1184b"
      },
      "execution_count": null,
      "outputs": [
        {
          "output_type": "stream",
          "name": "stdout",
          "text": [
            "#####Stage 1#####\n",
            "Here is the configuration of this run: \n",
            "Munch({'gpu': '1', 'u_net_d': 2, 'BATCH_SIZE': 1, 'batch_size_stage_1': 1, 'OUT_STEP': 10, 'LOAD_MODEL': True, 'rho_per_position': 'matrix', 'data_type': 'rnastralign_all_600', 'model_type': 'pretrained', 'epoches_first': 10, 'step_gamma': 1, 'k': 1})\n",
            "Loading dataset:  PDB_train\n",
            "/content/UFold/ufold/data_generator.py:43: VisibleDeprecationWarning: Creating an ndarray from ragged nested sequences (which is a list-or-tuple of lists-or-tuples-or ndarrays with different lengths or shapes) is deprecated. If you meant to do this, you must specify 'dtype=object' when creating the ndarray.\n",
            "  self.pairs = np.array([instance[-1] for instance in self.data])\n",
            "Loading dataset:  PDB_valid\n",
            "Data Loading Done!!!\n",
            "/usr/local/lib/python3.10/dist-packages/torch/utils/data/dataloader.py:560: UserWarning: This DataLoader will create 6 worker processes in total. Our suggested max number of worker in current system is 2, which is smaller than what this DataLoader is going to create. Please be aware that excessive worker creation might get DataLoader running slow or even freeze, lower the worker number to avoid potential slowness/freeze if necessary.\n",
            "  warnings.warn(_create_warning_msg(\n",
            "start training...\n",
            "  0% 0/10 [00:00<?, ?it/s]0 done in batch.\n",
            "100 done in batch.\n",
            "200 done in batch.\n",
            "300 done in batch.\n",
            "400 done in batch.\n",
            "500 done in batch.\n",
            "Training log: epoch: 0, step: 5, loss: 1.261250615119934\n",
            " 10% 1/10 [01:04<09:44, 64.93s/it]0 done in batch.\n",
            "100 done in batch.\n",
            "200 done in batch.\n",
            "300 done in batch.\n",
            "400 done in batch.\n",
            "500 done in batch.\n",
            "Training log: epoch: 1, step: 11, loss: 1.0822157859802246\n",
            " 20% 2/10 [02:07<08:29, 63.71s/it]0 done in batch.\n",
            "100 done in batch.\n",
            "200 done in batch.\n",
            "300 done in batch.\n",
            "400 done in batch.\n",
            "500 done in batch.\n",
            "Training log: epoch: 2, step: 17, loss: 0.9294573068618774\n",
            " 30% 3/10 [03:12<07:27, 63.95s/it]0 done in batch.\n",
            "100 done in batch.\n",
            "200 done in batch.\n",
            "300 done in batch.\n",
            "400 done in batch.\n",
            "500 done in batch.\n",
            "Training log: epoch: 3, step: 23, loss: 0.7835323214530945\n",
            " 40% 4/10 [04:18<06:29, 64.94s/it]0 done in batch.\n",
            "100 done in batch.\n",
            "200 done in batch.\n",
            "300 done in batch.\n",
            "400 done in batch.\n",
            "500 done in batch.\n",
            "Training log: epoch: 4, step: 29, loss: 0.9077083468437195\n",
            " 50% 5/10 [05:27<05:31, 66.27s/it]0 done in batch.\n",
            "100 done in batch.\n",
            "200 done in batch.\n",
            "300 done in batch.\n",
            "400 done in batch.\n",
            "500 done in batch.\n",
            "Training log: epoch: 5, step: 35, loss: 1.008162021636963\n",
            " 60% 6/10 [06:35<04:28, 67.00s/it]0 done in batch.\n",
            "100 done in batch.\n",
            "200 done in batch.\n",
            "300 done in batch.\n",
            "400 done in batch.\n",
            "500 done in batch.\n",
            "Training log: epoch: 6, step: 41, loss: 0.863531768321991\n",
            " 70% 7/10 [07:44<03:22, 67.49s/it]0 done in batch.\n",
            "100 done in batch.\n",
            "200 done in batch.\n",
            "300 done in batch.\n",
            "400 done in batch.\n",
            "500 done in batch.\n",
            "Training log: epoch: 7, step: 47, loss: 0.9926955103874207\n",
            " 80% 8/10 [08:48<02:13, 66.57s/it]0 done in batch.\n",
            "100 done in batch.\n",
            "200 done in batch.\n",
            "300 done in batch.\n",
            "400 done in batch.\n",
            "500 done in batch.\n",
            "Training log: epoch: 8, step: 53, loss: 0.825928807258606\n",
            " 90% 9/10 [09:51<01:05, 65.41s/it]0 done in batch.\n",
            "100 done in batch.\n",
            "200 done in batch.\n",
            "300 done in batch.\n",
            "400 done in batch.\n",
            "500 done in batch.\n",
            "Training log: epoch: 9, step: 59, loss: 0.7757381796836853\n",
            "100% 10/10 [10:55<00:00, 65.53s/it]\n"
          ]
        }
      ]
    },
    {
      "cell_type": "code",
      "source": [],
      "metadata": {
        "id": "2r0fQ2XZNWTG"
      },
      "execution_count": null,
      "outputs": []
    },
    {
      "cell_type": "markdown",
      "source": [
        "Eval"
      ],
      "metadata": {
        "id": "IRHLLZ9Pgw3p"
      }
    },
    {
      "cell_type": "code",
      "source": [
        "!cd UFold/ && \\\n",
        "python ufold_test.py --test_files PDB_test \\\n",
        "--model_pt_tag ../PDB_unet_9.pt\n"
      ],
      "metadata": {
        "colab": {
          "base_uri": "https://localhost:8080/"
        },
        "id": "PRoA_Acig1cQ",
        "outputId": "0692e4bd-43ea-4800-d08a-a0da43aa8f66"
      },
      "execution_count": null,
      "outputs": [
        {
          "output_type": "stream",
          "name": "stdout",
          "text": [
            "Loading test file:  PDB_test\n",
            "/content/UFold/ufold/data_generator.py:43: VisibleDeprecationWarning: Creating an ndarray from ragged nested sequences (which is a list-or-tuple of lists-or-tuples-or ndarrays with different lengths or shapes) is deprecated. If you meant to do this, you must specify 'dtype=object' when creating the ndarray.\n",
            "  self.pairs = np.array([instance[-1] for instance in self.data])\n",
            "Max seq length  600\n",
            "/usr/local/lib/python3.10/dist-packages/torch/utils/data/dataloader.py:560: UserWarning: This DataLoader will create 6 worker processes in total. Our suggested max number of worker in current system is 2, which is smaller than what this DataLoader is going to create. Please be aware that excessive worker creation might get DataLoader running slow or even freeze, lower the worker number to avoid potential slowness/freeze if necessary.\n",
            "  warnings.warn(_create_warning_msg(\n",
            "==========Start Loading==========\n",
            "==========Finish Loading==========\n",
            "Batch number:  0\n",
            "Average testing F1 score with pure post-processing:  0.55840886\n",
            "Average testing precision with pure post-processing:  0.56273943\n",
            "Average testing recall with pure post-processing:  0.5814805\n",
            "Average testing specificity with pure post-processing:  0.99833924\n",
            "Average testing INF with pure post-processing:  0.7231175\n"
          ]
        }
      ]
    },
    {
      "cell_type": "code",
      "source": [
        "!cd UFold/ && \\\n",
        "python ufold_test.py --test_files ArchiveII_test \\\n",
        "--model_pt_tag ../ArchiveII_unet_9.pt\n"
      ],
      "metadata": {
        "colab": {
          "base_uri": "https://localhost:8080/"
        },
        "outputId": "74ab24d1-e9f2-4b6b-ee22-e26cd88d05aa",
        "id": "zrWGOqqMq5Nj"
      },
      "execution_count": null,
      "outputs": [
        {
          "output_type": "stream",
          "name": "stdout",
          "text": [
            "Loading test file:  ArchiveII_test\n",
            "/content/UFold/ufold/data_generator.py:43: VisibleDeprecationWarning: Creating an ndarray from ragged nested sequences (which is a list-or-tuple of lists-or-tuples-or ndarrays with different lengths or shapes) is deprecated. If you meant to do this, you must specify 'dtype=object' when creating the ndarray.\n",
            "  self.pairs = np.array([instance[-1] for instance in self.data])\n",
            "Max seq length  600\n",
            "/usr/local/lib/python3.10/dist-packages/torch/utils/data/dataloader.py:560: UserWarning: This DataLoader will create 6 worker processes in total. Our suggested max number of worker in current system is 2, which is smaller than what this DataLoader is going to create. Please be aware that excessive worker creation might get DataLoader running slow or even freeze, lower the worker number to avoid potential slowness/freeze if necessary.\n",
            "  warnings.warn(_create_warning_msg(\n",
            "==========Start Loading==========\n",
            "==========Finish Loading==========\n",
            "Batch number:  0\n",
            "Average testing F1 score with pure post-processing:  0.24332544\n",
            "Average testing precision with pure post-processing:  0.35301468\n",
            "Average testing recall with pure post-processing:  0.19988567\n",
            "Average testing specificity with pure post-processing:  0.9987741\n",
            "Average testing INF with pure post-processing:  0.40360543\n"
          ]
        }
      ]
    },
    {
      "cell_type": "markdown",
      "source": [
        "![image.png](data:image/png;base64,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)"
      ],
      "metadata": {
        "id": "wn0GJ2vurt3b"
      }
    },
    {
      "cell_type": "markdown",
      "source": [
        "Transfer learning"
      ],
      "metadata": {
        "id": "RQK1gTv0tr2D"
      }
    },
    {
      "cell_type": "code",
      "source": [
        "!cd UFold/ && \\\n",
        "python ufold_train.py \\\n",
        "--train_files PDB_train PDB_valid \\\n",
        "--model_pt_tag ArchiveII_PDB_unet"
      ],
      "metadata": {
        "colab": {
          "base_uri": "https://localhost:8080/"
        },
        "id": "zLNaWs6Btzw0",
        "outputId": "86b01fc9-6e6c-46e6-9da3-5180b0e5d0d5"
      },
      "execution_count": null,
      "outputs": [
        {
          "output_type": "stream",
          "name": "stdout",
          "text": [
            "#####Stage 1#####\n",
            "Here is the configuration of this run: \n",
            "Munch({'gpu': '1', 'u_net_d': 2, 'BATCH_SIZE': 1, 'batch_size_stage_1': 1, 'OUT_STEP': 10, 'LOAD_MODEL': True, 'rho_per_position': 'matrix', 'data_type': 'rnastralign_all_600', 'model_type': 'pretrained', 'epoches_first': 10, 'step_gamma': 1, 'k': 1})\n",
            "Loading dataset:  PDB_train\n",
            "/content/UFold/ufold/data_generator.py:43: VisibleDeprecationWarning: Creating an ndarray from ragged nested sequences (which is a list-or-tuple of lists-or-tuples-or ndarrays with different lengths or shapes) is deprecated. If you meant to do this, you must specify 'dtype=object' when creating the ndarray.\n",
            "  self.pairs = np.array([instance[-1] for instance in self.data])\n",
            "Loading dataset:  PDB_valid\n",
            "Data Loading Done!!!\n",
            "/usr/local/lib/python3.10/dist-packages/torch/utils/data/dataloader.py:560: UserWarning: This DataLoader will create 6 worker processes in total. Our suggested max number of worker in current system is 2, which is smaller than what this DataLoader is going to create. Please be aware that excessive worker creation might get DataLoader running slow or even freeze, lower the worker number to avoid potential slowness/freeze if necessary.\n",
            "  warnings.warn(_create_warning_msg(\n",
            "Loading u net model...\n",
            "start training...\n",
            "  0% 0/10 [00:00<?, ?it/s]0 done in batch.\n",
            "100 done in batch.\n",
            "200 done in batch.\n",
            "300 done in batch.\n",
            "400 done in batch.\n",
            "500 done in batch.\n",
            "Training log: epoch: 0, step: 5, loss: 0.9567601084709167\n",
            " 10% 1/10 [01:04<09:36, 64.02s/it]0 done in batch.\n",
            "100 done in batch.\n",
            "200 done in batch.\n",
            "300 done in batch.\n",
            "400 done in batch.\n",
            "500 done in batch.\n",
            "Training log: epoch: 1, step: 11, loss: 0.9700145721435547\n",
            " 20% 2/10 [02:08<08:32, 64.08s/it]0 done in batch.\n",
            "100 done in batch.\n",
            "200 done in batch.\n",
            "300 done in batch.\n",
            "400 done in batch.\n",
            "500 done in batch.\n",
            "Training log: epoch: 2, step: 17, loss: 0.85378098487854\n",
            " 30% 3/10 [03:09<07:18, 62.64s/it]0 done in batch.\n",
            "100 done in batch.\n",
            "200 done in batch.\n",
            "300 done in batch.\n",
            "400 done in batch.\n",
            "500 done in batch.\n",
            "Training log: epoch: 3, step: 23, loss: 0.7720405459403992\n",
            " 40% 4/10 [04:12<06:16, 62.79s/it]0 done in batch.\n",
            "100 done in batch.\n",
            "200 done in batch.\n",
            "300 done in batch.\n",
            "400 done in batch.\n",
            "500 done in batch.\n",
            "Training log: epoch: 4, step: 29, loss: 0.8255380988121033\n",
            " 50% 5/10 [05:16<05:16, 63.31s/it]0 done in batch.\n",
            "100 done in batch.\n",
            "200 done in batch.\n",
            "300 done in batch.\n",
            "400 done in batch.\n",
            "500 done in batch.\n",
            "Training log: epoch: 5, step: 35, loss: 0.8366784453392029\n",
            " 60% 6/10 [06:18<04:12, 63.02s/it]0 done in batch.\n",
            "100 done in batch.\n",
            "200 done in batch.\n",
            "300 done in batch.\n",
            "400 done in batch.\n",
            "500 done in batch.\n",
            "Training log: epoch: 6, step: 41, loss: 0.6850098967552185\n",
            " 70% 7/10 [07:22<03:09, 63.25s/it]0 done in batch.\n",
            "100 done in batch.\n",
            "200 done in batch.\n",
            "300 done in batch.\n",
            "400 done in batch.\n",
            "500 done in batch.\n",
            "Training log: epoch: 7, step: 47, loss: 0.9960641264915466\n",
            " 80% 8/10 [08:24<02:05, 62.92s/it]0 done in batch.\n",
            "100 done in batch.\n",
            "200 done in batch.\n",
            "300 done in batch.\n",
            "400 done in batch.\n",
            "500 done in batch.\n",
            "Training log: epoch: 8, step: 53, loss: 0.7607789635658264\n",
            " 90% 9/10 [09:27<01:03, 63.01s/it]0 done in batch.\n",
            "100 done in batch.\n",
            "200 done in batch.\n",
            "300 done in batch.\n",
            "400 done in batch.\n",
            "500 done in batch.\n",
            "Training log: epoch: 9, step: 59, loss: 0.6212033629417419\n",
            "100% 10/10 [10:32<00:00, 63.21s/it]\n"
          ]
        }
      ]
    },
    {
      "cell_type": "markdown",
      "source": [
        "Transfered eval"
      ],
      "metadata": {
        "id": "QOn2WZWvutNU"
      }
    },
    {
      "cell_type": "code",
      "source": [
        "!mkdir UFold/data/SIwB-lab-07-data/joined\n",
        "!mkdir UFold/data/SIwB-lab-07-data/joined/test\n",
        "!cp UFold/data/SIwB-lab-07-data/ArchiveII_bpseq/test/* UFold/data/SIwB-lab-07-data/joined/test\n",
        "!cp UFold/data/SIwB-lab-07-data/PDB_bpseq/test/* UFold/data/SIwB-lab-07-data/joined/test"
      ],
      "metadata": {
        "id": "j7KgMzTCuxOL"
      },
      "execution_count": null,
      "outputs": []
    },
    {
      "cell_type": "code",
      "source": [
        "!cd UFold && python process_data_newdataset.py data/SIwB-lab-07-data/joined/test data/joined_test.cPickle"
      ],
      "metadata": {
        "colab": {
          "base_uri": "https://localhost:8080/"
        },
        "id": "CnpGVdnTwJjd",
        "outputId": "bb04dcb2-4170-4390-9af5-8e2ee8ccdc6d"
      },
      "execution_count": null,
      "outputs": [
        {
          "output_type": "stream",
          "name": "stdout",
          "text": [
            "current processing 1/199\n",
            "189\n"
          ]
        }
      ]
    },
    {
      "cell_type": "code",
      "source": [
        "!cd UFold/ && \\\n",
        "python ufold_test.py --test_files joined_test \\\n",
        "--model_pt_tag ../ArchiveII_PDB_unet_9.pt"
      ],
      "metadata": {
        "colab": {
          "base_uri": "https://localhost:8080/"
        },
        "id": "79J5x7blv-vD",
        "outputId": "728a50ee-ca6a-4eea-a950-d4a29df65c08"
      },
      "execution_count": null,
      "outputs": [
        {
          "output_type": "stream",
          "name": "stdout",
          "text": [
            "Loading test file:  joined_test\n",
            "/content/UFold/ufold/data_generator.py:43: VisibleDeprecationWarning: Creating an ndarray from ragged nested sequences (which is a list-or-tuple of lists-or-tuples-or ndarrays with different lengths or shapes) is deprecated. If you meant to do this, you must specify 'dtype=object' when creating the ndarray.\n",
            "  self.pairs = np.array([instance[-1] for instance in self.data])\n",
            "Max seq length  600\n",
            "/usr/local/lib/python3.10/dist-packages/torch/utils/data/dataloader.py:560: UserWarning: This DataLoader will create 6 worker processes in total. Our suggested max number of worker in current system is 2, which is smaller than what this DataLoader is going to create. Please be aware that excessive worker creation might get DataLoader running slow or even freeze, lower the worker number to avoid potential slowness/freeze if necessary.\n",
            "  warnings.warn(_create_warning_msg(\n",
            "==========Start Loading==========\n",
            "==========Finish Loading==========\n",
            "Batch number:  0\n",
            "Average testing F1 score with pure post-processing:  0.4062132\n",
            "Average testing precision with pure post-processing:  0.46857506\n",
            "Average testing recall with pure post-processing:  0.3930968\n",
            "Average testing specificity with pure post-processing:  0.9985891\n",
            "Average testing INF with pure post-processing:  0.55972487\n"
          ]
        }
      ]
    },
    {
      "cell_type": "code",
      "source": [
        "!cd UFold/ && \\\n",
        "python ufold_test.py --test_files ArchiveII_test \\\n",
        "--model_pt_tag ../ArchiveII_PDB_unet_9.pt"
      ],
      "metadata": {
        "colab": {
          "base_uri": "https://localhost:8080/"
        },
        "id": "UTf84Ri9xXME",
        "outputId": "325a8c07-513c-4170-c8ff-c0c08c05572e"
      },
      "execution_count": null,
      "outputs": [
        {
          "output_type": "stream",
          "name": "stdout",
          "text": [
            "Loading test file:  ArchiveII_test\n",
            "/content/UFold/ufold/data_generator.py:43: VisibleDeprecationWarning: Creating an ndarray from ragged nested sequences (which is a list-or-tuple of lists-or-tuples-or ndarrays with different lengths or shapes) is deprecated. If you meant to do this, you must specify 'dtype=object' when creating the ndarray.\n",
            "  self.pairs = np.array([instance[-1] for instance in self.data])\n",
            "Max seq length  600\n",
            "/usr/local/lib/python3.10/dist-packages/torch/utils/data/dataloader.py:560: UserWarning: This DataLoader will create 6 worker processes in total. Our suggested max number of worker in current system is 2, which is smaller than what this DataLoader is going to create. Please be aware that excessive worker creation might get DataLoader running slow or even freeze, lower the worker number to avoid potential slowness/freeze if necessary.\n",
            "  warnings.warn(_create_warning_msg(\n",
            "==========Start Loading==========\n",
            "==========Finish Loading==========\n",
            "Batch number:  0\n",
            "Average testing F1 score with pure post-processing:  0.20875296\n",
            "Average testing precision with pure post-processing:  0.30645213\n",
            "Average testing recall with pure post-processing:  0.17397118\n",
            "Average testing specificity with pure post-processing:  0.998653\n",
            "Average testing INF with pure post-processing:  0.3678999\n"
          ]
        }
      ]
    },
    {
      "cell_type": "code",
      "source": [
        "!cd UFold/ && \\\n",
        "python ufold_test.py --test_files PDB_test \\\n",
        "--model_pt_tag ../ArchiveII_PDB_unet_9.pt"
      ],
      "metadata": {
        "colab": {
          "base_uri": "https://localhost:8080/"
        },
        "id": "g781x5Kuxci8",
        "outputId": "c2c11ea3-aaaa-47a5-e331-b41b8c16dc07"
      },
      "execution_count": null,
      "outputs": [
        {
          "output_type": "stream",
          "name": "stdout",
          "text": [
            "Loading test file:  PDB_test\n",
            "/content/UFold/ufold/data_generator.py:43: VisibleDeprecationWarning: Creating an ndarray from ragged nested sequences (which is a list-or-tuple of lists-or-tuples-or ndarrays with different lengths or shapes) is deprecated. If you meant to do this, you must specify 'dtype=object' when creating the ndarray.\n",
            "  self.pairs = np.array([instance[-1] for instance in self.data])\n",
            "Max seq length  600\n",
            "/usr/local/lib/python3.10/dist-packages/torch/utils/data/dataloader.py:560: UserWarning: This DataLoader will create 6 worker processes in total. Our suggested max number of worker in current system is 2, which is smaller than what this DataLoader is going to create. Please be aware that excessive worker creation might get DataLoader running slow or even freeze, lower the worker number to avoid potential slowness/freeze if necessary.\n",
            "  warnings.warn(_create_warning_msg(\n",
            "==========Start Loading==========\n",
            "==========Finish Loading==========\n",
            "Batch number:  0\n",
            "Average testing F1 score with pure post-processing:  0.54802567\n",
            "Average testing precision with pure post-processing:  0.5850088\n",
            "Average testing recall with pure post-processing:  0.5504688\n",
            "Average testing specificity with pure post-processing:  0.9985431\n",
            "Average testing INF with pure post-processing:  0.69749\n"
          ]
        }
      ]
    },
    {
      "cell_type": "code",
      "source": [
        "!cd UFold/ && \\\n",
        "python ufold_test.py --test_files joined_test \\\n",
        "--model_pt_tag ../ArchiveII_unet_9.pt"
      ],
      "metadata": {
        "colab": {
          "base_uri": "https://localhost:8080/"
        },
        "id": "tF4BrTfjzKON",
        "outputId": "544b41a2-49f7-484b-9e3e-abb3bb56cb22"
      },
      "execution_count": null,
      "outputs": [
        {
          "output_type": "stream",
          "name": "stdout",
          "text": [
            "Loading test file:  joined_test\n",
            "/content/UFold/ufold/data_generator.py:43: VisibleDeprecationWarning: Creating an ndarray from ragged nested sequences (which is a list-or-tuple of lists-or-tuples-or ndarrays with different lengths or shapes) is deprecated. If you meant to do this, you must specify 'dtype=object' when creating the ndarray.\n",
            "  self.pairs = np.array([instance[-1] for instance in self.data])\n",
            "Max seq length  600\n",
            "/usr/local/lib/python3.10/dist-packages/torch/utils/data/dataloader.py:560: UserWarning: This DataLoader will create 6 worker processes in total. Our suggested max number of worker in current system is 2, which is smaller than what this DataLoader is going to create. Please be aware that excessive worker creation might get DataLoader running slow or even freeze, lower the worker number to avoid potential slowness/freeze if necessary.\n",
            "  warnings.warn(_create_warning_msg(\n",
            "==========Start Loading==========\n",
            "==========Finish Loading==========\n",
            "Batch number:  0\n",
            "Average testing F1 score with pure post-processing:  0.40383732\n",
            "Average testing precision with pure post-processing:  0.45883864\n",
            "Average testing recall with pure post-processing:  0.40325943\n",
            "Average testing specificity with pure post-processing:  0.9984422\n",
            "Average testing INF with pure post-processing:  0.5759571\n"
          ]
        }
      ]
    },
    {
      "cell_type": "code",
      "source": [
        "!cd UFold/ && \\\n",
        "python ufold_test.py --test_files joined_test \\\n",
        "--model_pt_tag ../PDB_unet_9.pt"
      ],
      "metadata": {
        "colab": {
          "base_uri": "https://localhost:8080/"
        },
        "id": "EYyCk2qFzTmF",
        "outputId": "217f16a8-2e2f-4575-c774-bae6316c888c"
      },
      "execution_count": null,
      "outputs": [
        {
          "output_type": "stream",
          "name": "stdout",
          "text": [
            "Loading test file:  joined_test\n",
            "/content/UFold/ufold/data_generator.py:43: VisibleDeprecationWarning: Creating an ndarray from ragged nested sequences (which is a list-or-tuple of lists-or-tuples-or ndarrays with different lengths or shapes) is deprecated. If you meant to do this, you must specify 'dtype=object' when creating the ndarray.\n",
            "  self.pairs = np.array([instance[-1] for instance in self.data])\n",
            "Max seq length  600\n",
            "/usr/local/lib/python3.10/dist-packages/torch/utils/data/dataloader.py:560: UserWarning: This DataLoader will create 6 worker processes in total. Our suggested max number of worker in current system is 2, which is smaller than what this DataLoader is going to create. Please be aware that excessive worker creation might get DataLoader running slow or even freeze, lower the worker number to avoid potential slowness/freeze if necessary.\n",
            "  warnings.warn(_create_warning_msg(\n",
            "==========Start Loading==========\n",
            "==========Finish Loading==========\n",
            "Batch number:  0\n",
            "Average testing F1 score with pure post-processing:  0.4294525\n",
            "Average testing precision with pure post-processing:  0.46008003\n",
            "Average testing recall with pure post-processing:  0.43179834\n",
            "Average testing specificity with pure post-processing:  0.9983459\n",
            "Average testing INF with pure post-processing:  0.6019574\n"
          ]
        }
      ]
    }
  ]
}